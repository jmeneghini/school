{
 "cells": [
  {
   "cell_type": "code",
   "execution_count": 67,
   "metadata": {},
   "outputs": [],
   "source": [
    "import sympy as sp\n",
    "from sympy.parsing.latex import parse_latex\n",
    "import numpy as np\n",
    "import pint"
   ]
  },
  {
   "cell_type": "code",
   "execution_count": 68,
   "metadata": {},
   "outputs": [],
   "source": [
    "ureg = pint.UnitRegistry()"
   ]
  },
  {
   "cell_type": "code",
   "execution_count": 69,
   "metadata": {},
   "outputs": [
    {
     "data": {
      "text/html": [
       "131.37931034482756 dimensionless"
      ],
      "text/latex": [
       "$131.37931034482756\\ dimensionless$"
      ],
      "text/plain": [
       "131.37931034482756 <Unit('dimensionless')>"
      ]
     },
     "execution_count": 69,
     "metadata": {},
     "output_type": "execute_result"
    }
   ],
   "source": [
    "# 1\n",
    "d_paper = 0.003 * ureg.inch\n",
    "d_paper = d_paper.to(ureg.nm)\n",
    "\n",
    "lambda_yellow = 580 * ureg.nm\n",
    "N = d_paper / lambda_yellow\n",
    "N = N.to_base_units()\n",
    "N"
   ]
  },
  {
   "cell_type": "code",
   "execution_count": 70,
   "metadata": {},
   "outputs": [
    {
     "data": {
      "text/html": [
       "3.9413793103448267 meter"
      ],
      "text/latex": [
       "$3.9413793103448267\\ \\mathrm{meter}$"
      ],
      "text/plain": [
       "3.9413793103448267 <Unit('meter')>"
      ]
     },
     "execution_count": 70,
     "metadata": {},
     "output_type": "execute_result"
    }
   ],
   "source": [
    "#1.2\n",
    "c = 3e8 * ureg.meter / ureg.second\n",
    "\n",
    "nu = 10**10 * ureg.Hz\n",
    "\n",
    "lambda_micro = c / nu\n",
    "lambda_micro.to(ureg.m) * N"
   ]
  },
  {
   "cell_type": "code",
   "execution_count": 71,
   "metadata": {},
   "outputs": [
    {
     "data": {
      "text/html": [
       "813.953488372093 hertz"
      ],
      "text/latex": [
       "$813.953488372093\\ \\mathrm{hertz}$"
      ],
      "text/plain": [
       "813.953488372093 <Unit('hertz')>"
      ]
     },
     "execution_count": 71,
     "metadata": {},
     "output_type": "execute_result"
    }
   ],
   "source": [
    "# 2\n",
    "lamb = 4.3 * ureg.m\n",
    "v = 3.5 * ureg.km / ureg.s\n",
    "f = v / lamb\n",
    "f.to(ureg.Hz)"
   ]
  },
  {
   "cell_type": "code",
   "execution_count": 72,
   "metadata": {},
   "outputs": [
    {
     "data": {
      "text/html": [
       "0.033350240483968084 second"
      ],
      "text/latex": [
       "$0.033350240483968084\\ \\mathrm{second}$"
      ],
      "text/plain": [
       "0.033350240483968084 <Unit('second')>"
      ]
     },
     "execution_count": 72,
     "metadata": {},
     "output_type": "execute_result"
    }
   ],
   "source": [
    "# 3\n",
    "k = 157 * 1/ureg.m\n",
    "lamb = 2 * np.pi / k\n",
    "lamb.to(ureg.m)\n",
    "\n",
    "v = 1.2 * ureg.m / ureg.s\n",
    "nu = v / lamb\n",
    "nu.to(ureg.Hz)\n",
    "\n",
    "T = 1 / nu\n",
    "T.to(ureg.s)"
   ]
  },
  {
   "cell_type": "code",
   "execution_count": 73,
   "metadata": {},
   "outputs": [
    {
     "name": "stdout",
     "output_type": "stream",
     "text": [
      "2.86e+15 / second\n"
     ]
    }
   ],
   "source": [
    "# 4\n",
    "A = 10**4 * ureg.V / ureg.m\n",
    "T = 2.2e-15 * ureg.s\n",
    "v = c\n",
    "omega = 2 * np.pi/T\n",
    "omega.to(ureg.rad/ureg.s)\n",
    "# print in scientific notation\n",
    "print(f\"{omega: .2e}\")"
   ]
  },
  {
   "cell_type": "code",
   "execution_count": 75,
   "metadata": {},
   "outputs": [
    {
     "name": "stdout",
     "output_type": "stream",
     "text": [
      "9.52e+06 / meter\n"
     ]
    }
   ],
   "source": [
    "k = omega / v\n",
    "k = k.to(1/ureg.m)\n",
    "print(f\"{k: .2e}\")"
   ]
  },
  {
   "cell_type": "code",
   "execution_count": null,
   "metadata": {},
   "outputs": [],
   "source": []
  }
 ],
 "metadata": {
  "kernelspec": {
   "display_name": "Python 3",
   "language": "python",
   "name": "python3"
  },
  "language_info": {
   "codemirror_mode": {
    "name": "ipython",
    "version": 3
   },
   "file_extension": ".py",
   "mimetype": "text/x-python",
   "name": "python",
   "nbconvert_exporter": "python",
   "pygments_lexer": "ipython3",
   "version": "3.10.12"
  }
 },
 "nbformat": 4,
 "nbformat_minor": 2
}
