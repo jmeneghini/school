{
 "cells": [
  {
   "cell_type": "code",
   "execution_count": 82,
   "metadata": {},
   "outputs": [],
   "source": [
    "import numpy as np\n",
    "import pint"
   ]
  },
  {
   "cell_type": "code",
   "execution_count": 83,
   "metadata": {},
   "outputs": [],
   "source": [
    "ureg = pint.UnitRegistry()"
   ]
  },
  {
   "cell_type": "code",
   "execution_count": 84,
   "metadata": {},
   "outputs": [
    {
     "data": {
      "text/plain": [
       "'5.45e+14 hertz'"
      ]
     },
     "execution_count": 84,
     "metadata": {},
     "output_type": "execute_result"
    }
   ],
   "source": [
    "# 2\n",
    "c = 3e8 * ureg.m / ureg.s\n",
    "lamb = 550 * ureg.nm\n",
    "nu = c / lamb\n",
    "nu = nu.to(ureg.Hz)\n",
    "f\"{nu:.2e}\""
   ]
  },
  {
   "cell_type": "code",
   "execution_count": 85,
   "metadata": {},
   "outputs": [
    {
     "data": {
      "text/plain": [
       "'3.43e+15 radian / second'"
      ]
     },
     "execution_count": 85,
     "metadata": {},
     "output_type": "execute_result"
    }
   ],
   "source": [
    "omega = 2 * np.pi * nu\n",
    "omega = omega.to(ureg.rad / ureg.s)\n",
    "f\"{omega:.2e}\""
   ]
  },
  {
   "cell_type": "code",
   "execution_count": 86,
   "metadata": {},
   "outputs": [
    {
     "data": {
      "text/plain": [
       "'1.14e+07 / meter'"
      ]
     },
     "execution_count": 86,
     "metadata": {},
     "output_type": "execute_result"
    }
   ],
   "source": [
    "k = 2 * np.pi / lamb\n",
    "k = k.to(1 / ureg.m)\n",
    "f\"{k:.2e}\""
   ]
  },
  {
   "cell_type": "code",
   "execution_count": 87,
   "metadata": {},
   "outputs": [
    {
     "data": {
      "text/plain": [
       "'2.00e+00 microtesla'"
      ]
     },
     "execution_count": 87,
     "metadata": {},
     "output_type": "execute_result"
    }
   ],
   "source": [
    "E_0 = 600 * ureg.V / ureg.m\n",
    "B_0 = E_0 / c\n",
    "B_0 = B_0.to(ureg.uT)\n",
    "f\"{B_0:.2e}\""
   ]
  },
  {
   "cell_type": "code",
   "execution_count": 88,
   "metadata": {},
   "outputs": [
    {
     "data": {
      "text/plain": [
       "'1.59e+00 watt / meter ** 2'"
      ]
     },
     "execution_count": 88,
     "metadata": {},
     "output_type": "execute_result"
    }
   ],
   "source": [
    "# 3\n",
    "P = 20 * ureg.W\n",
    "r = 1 * ureg.m\n",
    "I = P / (4 * np.pi * r ** 2)\n",
    "I = I.to(ureg.W / ureg.m ** 2)\n",
    "f\"{I:.2e}\""
   ]
  },
  {
   "cell_type": "code",
   "execution_count": 89,
   "metadata": {},
   "outputs": [
    {
     "data": {
      "text/plain": [
       "'1.00e-04 kilogram * meter / second'"
      ]
     },
     "execution_count": 89,
     "metadata": {},
     "output_type": "execute_result"
    }
   ],
   "source": [
    "# 4\n",
    "P = 300 * ureg.W\n",
    "t = 100 * ureg.s\n",
    "p = P * t / c\n",
    "p = p.to_base_units()\n",
    "f\"{p:.2e}\""
   ]
  },
  {
   "cell_type": "code",
   "execution_count": 90,
   "metadata": {},
   "outputs": [
    {
     "data": {
      "text/plain": [
       "'5.00e+14 hertz'"
      ]
     },
     "execution_count": 90,
     "metadata": {},
     "output_type": "execute_result"
    }
   ],
   "source": [
    "# 7 \n",
    "omega = np.pi * 1e15 * ureg.rad / ureg.s\n",
    "nu = omega / (2 * np.pi)\n",
    "nu = nu.to(ureg.Hz)\n",
    "f\"{nu:.2e}\""
   ]
  },
  {
   "cell_type": "code",
   "execution_count": 91,
   "metadata": {},
   "outputs": [
    {
     "data": {
      "text/plain": [
       "'3.90e-01 micrometer'"
      ]
     },
     "execution_count": 91,
     "metadata": {},
     "output_type": "execute_result"
    }
   ],
   "source": [
    "k = np.pi * 1e15 / (0.65 * 3e8) / ureg.m\n",
    "lamb = 2 * np.pi / k\n",
    "lamb = lamb.to(ureg.um)\n",
    "f\"{lamb:.2e}\""
   ]
  },
  {
   "cell_type": "code",
   "execution_count": 92,
   "metadata": {},
   "outputs": [
    {
     "data": {
      "text/plain": [
       "'1.95e+08 meter / second'"
      ]
     },
     "execution_count": 92,
     "metadata": {},
     "output_type": "execute_result"
    }
   ],
   "source": [
    "v = lamb * nu\n",
    "v = v.to(ureg.m / ureg.s)\n",
    "f\"{v:.2e}\""
   ]
  },
  {
   "cell_type": "code",
   "execution_count": 93,
   "metadata": {},
   "outputs": [
    {
     "data": {
      "text/plain": [
       "'6.50e-01 dimensionless'"
      ]
     },
     "execution_count": 93,
     "metadata": {},
     "output_type": "execute_result"
    }
   ],
   "source": [
    "v_per_c = v / c\n",
    "f\"{v_per_c:.2e}\""
   ]
  },
  {
   "cell_type": "code",
   "execution_count": 94,
   "metadata": {},
   "outputs": [
    {
     "data": {
      "text/plain": [
       "'1.54e+00 dimensionless'"
      ]
     },
     "execution_count": 94,
     "metadata": {},
     "output_type": "execute_result"
    }
   ],
   "source": [
    "n = 1 / v_per_c\n",
    "f\"{n:.2e}\""
   ]
  },
  {
   "cell_type": "code",
   "execution_count": 95,
   "metadata": {},
   "outputs": [
    {
     "data": {
      "text/plain": [
       "'6.00e-01 meter'"
      ]
     },
     "execution_count": 95,
     "metadata": {},
     "output_type": "execute_result"
    }
   ],
   "source": [
    "# 8\n",
    "t = 2 * ureg.ns\n",
    "L = c * t\n",
    "L = L.to(ureg.m)\n",
    "f\"{L:.2e}\""
   ]
  },
  {
   "cell_type": "code",
   "execution_count": 97,
   "metadata": {},
   "outputs": [
    {
     "data": {
      "text/plain": [
       "'2.04e+00 megajoule / meter ** 3'"
      ]
     },
     "execution_count": 97,
     "metadata": {},
     "output_type": "execute_result"
    }
   ],
   "source": [
    "d = 2.5 * ureg.mm\n",
    "V = 1/4 * np.pi * d ** 2 * L\n",
    "E = 6 * ureg.J\n",
    "E_V = E / V \n",
    "E_V = E_V.to(ureg.MJ / ureg.m ** 3)\n",
    "f\"{E_V:.2e}\""
   ]
  },
  {
   "cell_type": "code",
   "execution_count": null,
   "metadata": {},
   "outputs": [],
   "source": []
  }
 ],
 "metadata": {
  "kernelspec": {
   "display_name": "Python 3",
   "language": "python",
   "name": "python3"
  },
  "language_info": {
   "codemirror_mode": {
    "name": "ipython",
    "version": 3
   },
   "file_extension": ".py",
   "mimetype": "text/x-python",
   "name": "python",
   "nbconvert_exporter": "python",
   "pygments_lexer": "ipython3",
   "version": "3.10.12"
  }
 },
 "nbformat": 4,
 "nbformat_minor": 2
}
