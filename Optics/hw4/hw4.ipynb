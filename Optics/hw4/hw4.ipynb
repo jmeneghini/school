{
 "cells": [
  {
   "cell_type": "code",
   "execution_count": 119,
   "metadata": {},
   "outputs": [],
   "source": [
    "import numpy as np\n",
    "from scipy.constants import c, e, m_p, m_e, h\n",
    "import pint\n"
   ]
  },
  {
   "cell_type": "code",
   "execution_count": 120,
   "metadata": {},
   "outputs": [],
   "source": [
    "ureg = pint.UnitRegistry()\n",
    "c = c * ureg.m / ureg.s\n",
    "h = h * ureg.J * ureg.s\n"
   ]
  },
  {
   "cell_type": "code",
   "execution_count": 121,
   "metadata": {},
   "outputs": [
    {
     "data": {
      "text/html": [
       "299.792458 meter"
      ],
      "text/latex": [
       "$299.792458\\ \\mathrm{meter}$"
      ],
      "text/plain": [
       "299.792458 <Unit('meter')>"
      ]
     },
     "execution_count": 121,
     "metadata": {},
     "output_type": "execute_result"
    }
   ],
   "source": [
    "# 1\n",
    "nu = 1 * ureg.megahertz\n",
    "lamb = c / nu\n",
    "lamb = lamb.to(ureg.meter)\n",
    "lamb"
   ]
  },
  {
   "cell_type": "code",
   "execution_count": 122,
   "metadata": {},
   "outputs": [
    {
     "data": {
      "text/html": [
       "1153.635800535948 meter"
      ],
      "text/latex": [
       "$1153.635800535948\\ \\mathrm{meter}$"
      ],
      "text/plain": [
       "1153.635800535948 <Unit('meter')>"
      ]
     },
     "execution_count": 122,
     "metadata": {},
     "output_type": "execute_result"
    }
   ],
   "source": [
    "a = 600 * ureg.meter\n",
    "x = 2 * ureg.kilometer\n",
    "y = x/np.sqrt(a**2/lamb**2 - 1)\n",
    "y = y.to(ureg.meter)\n",
    "y"
   ]
  },
  {
   "cell_type": "code",
   "execution_count": 123,
   "metadata": {},
   "outputs": [
    {
     "data": {
      "text/html": [
       "1.5820019796583997 millimeter"
      ],
      "text/latex": [
       "$1.5820019796583997\\ \\mathrm{millimeter}$"
      ],
      "text/plain": [
       "1.5820019796583997 <Unit('millimeter')>"
      ]
     },
     "execution_count": 123,
     "metadata": {},
     "output_type": "execute_result"
    }
   ],
   "source": [
    "# 2\n",
    "# a\n",
    "lamb = 632.8 * ureg.nanometer\n",
    "a = 0.2 * ureg.mm\n",
    "x = 1 * ureg.meter\n",
    "y_m = lambda m: x/np.sqrt(a**2/((m + 0.5)**2*lamb**2) - 1)\n",
    "y_m(0).to(ureg.millimeter)"
   ]
  },
  {
   "cell_type": "code",
   "execution_count": 124,
   "metadata": {},
   "outputs": [
    {
     "data": {
      "text/html": [
       "1.5820019796583997 millimeter"
      ],
      "text/latex": [
       "$1.5820019796583997\\ \\mathrm{millimeter}$"
      ],
      "text/plain": [
       "1.5820019796583997 <Unit('millimeter')>"
      ]
     },
     "execution_count": 124,
     "metadata": {},
     "output_type": "execute_result"
    }
   ],
   "source": [
    "y_m(-1).to(ureg.millimeter)"
   ]
  },
  {
   "cell_type": "code",
   "execution_count": 125,
   "metadata": {},
   "outputs": [
    {
     "data": {
      "text/html": [
       "3.1639999999999997 millimeter"
      ],
      "text/latex": [
       "$3.1639999999999997\\ \\mathrm{millimeter}$"
      ],
      "text/plain": [
       "3.1639999999999997 <Unit('millimeter')>"
      ]
     },
     "execution_count": 125,
     "metadata": {},
     "output_type": "execute_result"
    }
   ],
   "source": [
    "(x*lamb/a).to(ureg.mm)"
   ]
  },
  {
   "cell_type": "code",
   "execution_count": 126,
   "metadata": {},
   "outputs": [
    {
     "data": {
      "text/html": [
       "0.0015820006598856377 radian"
      ],
      "text/latex": [
       "$0.0015820006598856377\\ \\mathrm{radian}$"
      ],
      "text/plain": [
       "0.0015820006598856377 <Unit('radian')>"
      ]
     },
     "execution_count": 126,
     "metadata": {},
     "output_type": "execute_result"
    }
   ],
   "source": [
    "theta = np.arctan(y_m(0)/x)\n",
    "theta.to(ureg.rad)"
   ]
  },
  {
   "cell_type": "code",
   "execution_count": 127,
   "metadata": {},
   "outputs": [
    {
     "data": {
      "text/html": [
       "0.001582 radian"
      ],
      "text/latex": [
       "$0.001582\\ \\mathrm{radian}$"
      ],
      "text/plain": [
       "0.001582 <Unit('radian')>"
      ]
     },
     "execution_count": 127,
     "metadata": {},
     "output_type": "execute_result"
    }
   ],
   "source": [
    "(lamb/(2*a)).to(ureg.rad)"
   ]
  },
  {
   "cell_type": "code",
   "execution_count": 128,
   "metadata": {},
   "outputs": [
    {
     "data": {
      "text/html": [
       "15.821980026351213 millimeter"
      ],
      "text/latex": [
       "$15.821980026351213\\ \\mathrm{millimeter}$"
      ],
      "text/plain": [
       "15.821980026351213 <Unit('millimeter')>"
      ]
     },
     "execution_count": 128,
     "metadata": {},
     "output_type": "execute_result"
    }
   ],
   "source": [
    "# b\n",
    "y_m = lambda m: x/np.sqrt(a**2/(m**2*lamb**2) - 1)\n",
    "y_m(5).to(ureg.millimeter)"
   ]
  },
  {
   "cell_type": "code",
   "execution_count": 132,
   "metadata": {},
   "outputs": [
    {
     "data": {
      "text/html": [
       "4.95936793732801 meter"
      ],
      "text/latex": [
       "$4.95936793732801\\ \\mathrm{meter}$"
      ],
      "text/plain": [
       "4.95936793732801 <Unit('meter')>"
      ]
     },
     "execution_count": 132,
     "metadata": {},
     "output_type": "execute_result"
    }
   ],
   "source": [
    "# 3\n",
    "E = 0.5 * ureg.eV\n",
    "lamb = h*c/E\n",
    "lamb.to(ureg.meter)\n",
    "a = 1e-2 * ureg.mm\n",
    "x = 20 * ureg.m\n",
    "(lamb*x/a).to(ureg.m)"
   ]
  },
  {
   "cell_type": "code",
   "execution_count": null,
   "metadata": {},
   "outputs": [],
   "source": []
  }
 ],
 "metadata": {
  "kernelspec": {
   "display_name": "Python 3",
   "language": "python",
   "name": "python3"
  },
  "language_info": {
   "codemirror_mode": {
    "name": "ipython",
    "version": 3
   },
   "file_extension": ".py",
   "mimetype": "text/x-python",
   "name": "python",
   "nbconvert_exporter": "python",
   "pygments_lexer": "ipython3",
   "version": "3.10.13"
  }
 },
 "nbformat": 4,
 "nbformat_minor": 2
}
