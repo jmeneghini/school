{
 "cells": [
  {
   "cell_type": "code",
   "execution_count": 1,
   "metadata": {},
   "outputs": [],
   "source": [
    "import numpy as np\n",
    "from scipy.constants import c, e, m_p, m_e, h\n",
    "import pint\n"
   ]
  },
  {
   "cell_type": "code",
   "execution_count": 2,
   "metadata": {},
   "outputs": [],
   "source": [
    "ureg = pint.UnitRegistry()\n",
    "c = c * ureg.m / ureg.s\n",
    "h = h * ureg.J * ureg.s\n",
    "m_e = m_e * ureg.kg"
   ]
  },
  {
   "cell_type": "code",
   "execution_count": 3,
   "metadata": {},
   "outputs": [
    {
     "data": {
      "text/html": [
       "299.792458 meter"
      ],
      "text/latex": [
       "$299.792458\\ \\mathrm{meter}$"
      ],
      "text/plain": [
       "299.792458 <Unit('meter')>"
      ]
     },
     "execution_count": 3,
     "metadata": {},
     "output_type": "execute_result"
    }
   ],
   "source": [
    "# 1\n",
    "nu = 1 * ureg.megahertz\n",
    "lamb = c / nu\n",
    "lamb = lamb.to(ureg.meter)\n",
    "lamb"
   ]
  },
  {
   "cell_type": "code",
   "execution_count": 4,
   "metadata": {},
   "outputs": [
    {
     "data": {
      "text/html": [
       "1153.635800535948 meter"
      ],
      "text/latex": [
       "$1153.635800535948\\ \\mathrm{meter}$"
      ],
      "text/plain": [
       "1153.635800535948 <Unit('meter')>"
      ]
     },
     "execution_count": 4,
     "metadata": {},
     "output_type": "execute_result"
    }
   ],
   "source": [
    "a = 600 * ureg.meter\n",
    "x = 2 * ureg.kilometer\n",
    "y = x/np.sqrt(a**2/lamb**2 - 1)\n",
    "y = y.to(ureg.meter)\n",
    "y"
   ]
  },
  {
   "cell_type": "code",
   "execution_count": 5,
   "metadata": {},
   "outputs": [
    {
     "data": {
      "text/html": [
       "1.5820019796583997 millimeter"
      ],
      "text/latex": [
       "$1.5820019796583997\\ \\mathrm{millimeter}$"
      ],
      "text/plain": [
       "1.5820019796583997 <Unit('millimeter')>"
      ]
     },
     "execution_count": 5,
     "metadata": {},
     "output_type": "execute_result"
    }
   ],
   "source": [
    "# 2\n",
    "# a\n",
    "lamb = 632.8 * ureg.nanometer\n",
    "a = 0.2 * ureg.mm\n",
    "x = 1 * ureg.meter\n",
    "y_m = lambda m: x/np.sqrt(a**2/((m + 0.5)**2*lamb**2) - 1)\n",
    "y_m(0).to(ureg.millimeter)"
   ]
  },
  {
   "cell_type": "code",
   "execution_count": 6,
   "metadata": {},
   "outputs": [
    {
     "data": {
      "text/html": [
       "1.5820019796583997 millimeter"
      ],
      "text/latex": [
       "$1.5820019796583997\\ \\mathrm{millimeter}$"
      ],
      "text/plain": [
       "1.5820019796583997 <Unit('millimeter')>"
      ]
     },
     "execution_count": 6,
     "metadata": {},
     "output_type": "execute_result"
    }
   ],
   "source": [
    "y_m(-1).to(ureg.millimeter)"
   ]
  },
  {
   "cell_type": "code",
   "execution_count": 7,
   "metadata": {},
   "outputs": [
    {
     "data": {
      "text/html": [
       "3.1639999999999997 millimeter"
      ],
      "text/latex": [
       "$3.1639999999999997\\ \\mathrm{millimeter}$"
      ],
      "text/plain": [
       "3.1639999999999997 <Unit('millimeter')>"
      ]
     },
     "execution_count": 7,
     "metadata": {},
     "output_type": "execute_result"
    }
   ],
   "source": [
    "(x*lamb/a).to(ureg.mm)"
   ]
  },
  {
   "cell_type": "code",
   "execution_count": 8,
   "metadata": {},
   "outputs": [
    {
     "data": {
      "text/html": [
       "0.0015820006598856377 radian"
      ],
      "text/latex": [
       "$0.0015820006598856377\\ \\mathrm{radian}$"
      ],
      "text/plain": [
       "0.0015820006598856377 <Unit('radian')>"
      ]
     },
     "execution_count": 8,
     "metadata": {},
     "output_type": "execute_result"
    }
   ],
   "source": [
    "theta = np.arctan(y_m(0)/x)\n",
    "theta.to(ureg.rad)"
   ]
  },
  {
   "cell_type": "code",
   "execution_count": 9,
   "metadata": {},
   "outputs": [
    {
     "data": {
      "text/html": [
       "0.001582 radian"
      ],
      "text/latex": [
       "$0.001582\\ \\mathrm{radian}$"
      ],
      "text/plain": [
       "0.001582 <Unit('radian')>"
      ]
     },
     "execution_count": 9,
     "metadata": {},
     "output_type": "execute_result"
    }
   ],
   "source": [
    "(lamb/(2*a)).to(ureg.rad)"
   ]
  },
  {
   "cell_type": "code",
   "execution_count": 10,
   "metadata": {},
   "outputs": [
    {
     "data": {
      "text/html": [
       "15.821980026351213 millimeter"
      ],
      "text/latex": [
       "$15.821980026351213\\ \\mathrm{millimeter}$"
      ],
      "text/plain": [
       "15.821980026351213 <Unit('millimeter')>"
      ]
     },
     "execution_count": 10,
     "metadata": {},
     "output_type": "execute_result"
    }
   ],
   "source": [
    "# b\n",
    "y_m = lambda m: x/np.sqrt(a**2/(m**2*lamb**2) - 1)\n",
    "y_m(5).to(ureg.millimeter)"
   ]
  },
  {
   "cell_type": "code",
   "execution_count": 20,
   "metadata": {},
   "outputs": [
    {
     "data": {
      "text/html": [
       "3.468856469174762 millimeter"
      ],
      "text/latex": [
       "$3.468856469174762\\ \\mathrm{millimeter}$"
      ],
      "text/plain": [
       "3.468856469174762 <Unit('millimeter')>"
      ]
     },
     "execution_count": 20,
     "metadata": {},
     "output_type": "execute_result"
    }
   ],
   "source": [
    "# 3\n",
    "E = 0.5 * ureg.eV\n",
    "lamb = h/np.sqrt(2*m_e*E)\n",
    "lamb.to(ureg.nm)\n",
    "a = 1e-2 * ureg.mm\n",
    "x = 20 * ureg.m\n",
    "(lamb*x/a).to(ureg.mm)"
   ]
  },
  {
   "cell_type": "code",
   "execution_count": 12,
   "metadata": {},
   "outputs": [
    {
     "data": {
      "text/html": [
       "0.5499999999999999 micrometer"
      ],
      "text/latex": [
       "$0.5499999999999999\\ \\mathrm{micrometer}$"
      ],
      "text/plain": [
       "0.5499999999999999 <Unit('micrometer')>"
      ]
     },
     "execution_count": 12,
     "metadata": {},
     "output_type": "execute_result"
    }
   ],
   "source": [
    "# 7\n",
    "n = 92\n",
    "d = 2.53e-5 * ureg.meter\n",
    "\n",
    "lamb = 2*d/n\n",
    "lamb.to(ureg.micrometer)"
   ]
  },
  {
   "cell_type": "code",
   "execution_count": 13,
   "metadata": {},
   "outputs": [
    {
     "data": {
      "text/html": [
       "118.09701492537313 nanometer"
      ],
      "text/latex": [
       "$118.09701492537313\\ \\mathrm{nanometer}$"
      ],
      "text/plain": [
       "118.09701492537313 <Unit('nanometer')>"
      ]
     },
     "execution_count": 13,
     "metadata": {},
     "output_type": "execute_result"
    }
   ],
   "source": [
    "# 6\n",
    "lamb = 633 * ureg.nanometer\n",
    "n = 1.34\n",
    "d = lamb/(4*n)\n",
    "d"
   ]
  },
  {
   "cell_type": "code",
   "execution_count": 14,
   "metadata": {},
   "outputs": [
    {
     "data": {
      "text/html": [
       "101.50375939849623 nanometer"
      ],
      "text/latex": [
       "$101.50375939849623\\ \\mathrm{nanometer}$"
      ],
      "text/plain": [
       "101.50375939849623 <Unit('nanometer')>"
      ]
     },
     "execution_count": 14,
     "metadata": {},
     "output_type": "execute_result"
    }
   ],
   "source": [
    "# 8\n",
    "lamb = 540 * ureg.nanometer\n",
    "n = 1.33\n",
    "d = lamb/(4*n)\n",
    "d"
   ]
  },
  {
   "cell_type": "code",
   "execution_count": 15,
   "metadata": {},
   "outputs": [
    {
     "data": {
      "text/html": [
       "99.6376811594203 nanometer"
      ],
      "text/latex": [
       "$99.6376811594203\\ \\mathrm{nanometer}$"
      ],
      "text/plain": [
       "99.6376811594203 <Unit('nanometer')>"
      ]
     },
     "execution_count": 15,
     "metadata": {},
     "output_type": "execute_result"
    }
   ],
   "source": [
    "# 9\n",
    "n = 1.38\n",
    "lamb = 550 * ureg.nanometer\n",
    "d = lamb/(4*n)\n",
    "d"
   ]
  },
  {
   "cell_type": "code",
   "execution_count": null,
   "metadata": {},
   "outputs": [],
   "source": []
  }
 ],
 "metadata": {
  "kernelspec": {
   "display_name": "Python 3",
   "language": "python",
   "name": "python3"
  },
  "language_info": {
   "codemirror_mode": {
    "name": "ipython",
    "version": 3
   },
   "file_extension": ".py",
   "mimetype": "text/x-python",
   "name": "python",
   "nbconvert_exporter": "python",
   "pygments_lexer": "ipython3",
   "version": "3.10.12"
  }
 },
 "nbformat": 4,
 "nbformat_minor": 2
}
