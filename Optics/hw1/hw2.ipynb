{
 "cells": [
  {
   "cell_type": "code",
   "execution_count": 187,
   "metadata": {},
   "outputs": [],
   "source": [
    "from numpy import *"
   ]
  },
  {
   "cell_type": "code",
   "execution_count": 188,
   "metadata": {},
   "outputs": [
    {
     "data": {
      "text/plain": [
       "24.000000000000007"
      ]
     },
     "execution_count": 188,
     "metadata": {},
     "output_type": "execute_result"
    }
   ],
   "source": [
    "((1.5 - 1)*(1/6 - 1/10 + (1.5 - 1)*3/(1.5 * 6 * 10)))**(-1)"
   ]
  },
  {
   "cell_type": "code",
   "execution_count": 189,
   "metadata": {},
   "outputs": [
    {
     "data": {
      "text/plain": [
       "-4.166666666666667"
      ]
     },
     "execution_count": 189,
     "metadata": {},
     "output_type": "execute_result"
    }
   ],
   "source": [
    "-(25 * (1.5 - 1) * 3)/(1.5 * 6)"
   ]
  },
  {
   "cell_type": "code",
   "execution_count": 190,
   "metadata": {},
   "outputs": [
    {
     "data": {
      "text/plain": [
       "20.015015015015013"
      ]
     },
     "execution_count": 190,
     "metadata": {},
     "output_type": "execute_result"
    }
   ],
   "source": [
    "((1.333 - 1)*(1/10  + 1/10 + (1.333 - 1)*20/(1.333 * 10 * (-10))))**(-1)"
   ]
  },
  {
   "cell_type": "code",
   "execution_count": 191,
   "metadata": {},
   "outputs": [
    {
     "data": {
      "text/plain": [
       "75.0"
      ]
     },
     "execution_count": 191,
     "metadata": {},
     "output_type": "execute_result"
    }
   ],
   "source": [
    "(1/30 - 1/50)**(-1)"
   ]
  },
  {
   "cell_type": "code",
   "execution_count": 192,
   "metadata": {},
   "outputs": [],
   "source": [
    "import sympy as sp\n",
    "from sympy.parsing.latex import parse_latex\n"
   ]
  },
  {
   "cell_type": "code",
   "execution_count": 193,
   "metadata": {},
   "outputs": [
    {
     "name": "stdout",
     "output_type": "stream",
     "text": [
      "ANTLR runtime and generated code versions disagree: 4.13.1!=4.11.1\n",
      "ANTLR runtime and generated code versions disagree: 4.13.1!=4.11.1\n"
     ]
    },
    {
     "data": {
      "text/latex": [
       "$\\displaystyle 6.79245283018868$"
      ],
      "text/plain": [
       "6.79245283018868"
      ]
     },
     "execution_count": 193,
     "metadata": {},
     "output_type": "execute_result"
    }
   ],
   "source": [
    "latex_str = r\"(1.5 - 1) \\left(\\frac{1}{4} + \\frac{1}{15} + \\frac{(1.5-1)(4)}{(1.5)(4)(-15)}\\right)\"\n",
    "\n",
    "expr = parse_latex(latex_str)\n",
    "expr\n",
    "f = (expr.simplify())**(-1)\n",
    "f"
   ]
  },
  {
   "cell_type": "code",
   "execution_count": 194,
   "metadata": {},
   "outputs": [
    {
     "name": "stdout",
     "output_type": "stream",
     "text": [
      "ANTLR runtime and generated code versions disagree: 4.13.1!=4.11.1\n",
      "ANTLR runtime and generated code versions disagree: 4.13.1!=4.11.1\n"
     ]
    },
    {
     "data": {
      "text/latex": [
       "$\\displaystyle -0.133333333333333$"
      ],
      "text/plain": [
       "-0.133333333333333"
      ]
     },
     "execution_count": 194,
     "metadata": {},
     "output_type": "execute_result"
    }
   ],
   "source": [
    "latex_str =  r\"\\frac{(x)(1.5-1)(4)}{(1.5)(-15)}\"\n",
    "\n",
    "x = sp.symbols('x')\n",
    "expr = parse_latex(latex_str)\n",
    "expr = expr.subs(x, sp.Rational(3, 2))\n",
    "h1 = expr.simplify()\n",
    "h1"
   ]
  },
  {
   "cell_type": "code",
   "execution_count": 195,
   "metadata": {},
   "outputs": [
    {
     "name": "stdout",
     "output_type": "stream",
     "text": [
      "ANTLR runtime and generated code versions disagree: 4.13.1!=4.11.1\n",
      "ANTLR runtime and generated code versions disagree: 4.13.1!=4.11.1\n"
     ]
    },
    {
     "data": {
      "text/latex": [
       "$\\displaystyle -0.735130718954248$"
      ],
      "text/plain": [
       "-0.735130718954248"
      ]
     },
     "execution_count": 195,
     "metadata": {},
     "output_type": "execute_result"
    }
   ],
   "source": [
    "latex_str = r\"\\frac{1}{x} - \\frac{1}{1.0 - y}\"\n",
    "x, y = sp.symbols('x y')\n",
    "expr = parse_latex(latex_str)\n",
    "expr = expr.subs({x: f, y: h1})\n",
    "expr.simplify()"
   ]
  },
  {
   "cell_type": "code",
   "execution_count": 196,
   "metadata": {},
   "outputs": [
    {
     "data": {
      "text/plain": [
       "6.792452830188679"
      ]
     },
     "execution_count": 196,
     "metadata": {},
     "output_type": "execute_result"
    }
   ],
   "source": [
    "f = ((1.5 - 1)*(1/4 + 1/15 + (1.5 - 1)*4/(1.5 * 4 * (-15))))**(-1)\n",
    "f"
   ]
  },
  {
   "cell_type": "code",
   "execution_count": 197,
   "metadata": {},
   "outputs": [
    {
     "data": {
      "text/plain": [
       "0.6037735849056604"
      ]
     },
     "execution_count": 197,
     "metadata": {},
     "output_type": "execute_result"
    }
   ],
   "source": [
    "h1 = -f * (1.5 - 1) * 4/(1.5 * (-15))\n",
    "h1"
   ]
  },
  {
   "cell_type": "code",
   "execution_count": 198,
   "metadata": {},
   "outputs": [
    {
     "data": {
      "text/plain": [
       "-2.2641509433962264"
      ]
     },
     "execution_count": 198,
     "metadata": {},
     "output_type": "execute_result"
    }
   ],
   "source": [
    "h2 = -f * (1.5 - 1) * 4/(1.5 * (4))\n",
    "h2"
   ]
  },
  {
   "cell_type": "code",
   "execution_count": 200,
   "metadata": {},
   "outputs": [
    {
     "data": {
      "text/plain": [
       "-4.363636363636363"
      ]
     },
     "execution_count": 200,
     "metadata": {},
     "output_type": "execute_result"
    }
   ],
   "source": [
    "p = (1/f - 1/(1 + h1))**(-1)\n",
    "h2 + p"
   ]
  },
  {
   "cell_type": "code",
   "execution_count": 202,
   "metadata": {},
   "outputs": [
    {
     "data": {
      "text/latex": [
       "$\\displaystyle \\left[\\begin{matrix}1 & -2 & 1\\\\1 & -2 & 9\\\\5 & 3 & 3\\end{matrix}\\right]$"
      ],
      "text/plain": [
       "Matrix([\n",
       "[1, -2, 1],\n",
       "[1, -2, 9],\n",
       "[5,  3, 3]])"
      ]
     },
     "execution_count": 202,
     "metadata": {},
     "output_type": "execute_result"
    }
   ],
   "source": [
    "A = sp.Matrix([[1, 2, -1], [0, 3, 1], [2, 0, 1]])\n",
    "B = sp.Matrix([[2, 1, 0], [0, -1, 2], [1, 1, 3]])\n",
    "A*B"
   ]
  },
  {
   "cell_type": "code",
   "execution_count": 1,
   "metadata": {},
   "outputs": [
    {
     "data": {
      "text/plain": [
       "36.0"
      ]
     },
     "execution_count": 1,
     "metadata": {},
     "output_type": "execute_result"
    }
   ],
   "source": [
    "(1/9 - 1/12)**(-1)"
   ]
  },
  {
   "cell_type": "code",
   "execution_count": null,
   "metadata": {},
   "outputs": [],
   "source": []
  }
 ],
 "metadata": {
  "kernelspec": {
   "display_name": "venv",
   "language": "python",
   "name": "python3"
  },
  "language_info": {
   "codemirror_mode": {
    "name": "ipython",
    "version": 3
   },
   "file_extension": ".py",
   "mimetype": "text/x-python",
   "name": "python",
   "nbconvert_exporter": "python",
   "pygments_lexer": "ipython3",
   "version": "3.10.12"
  }
 },
 "nbformat": 4,
 "nbformat_minor": 2
}
