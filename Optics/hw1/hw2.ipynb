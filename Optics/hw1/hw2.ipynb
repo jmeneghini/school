{
 "cells": [
  {
   "cell_type": "code",
   "execution_count": 612,
   "metadata": {},
   "outputs": [],
   "source": [
    "from numpy import *"
   ]
  },
  {
   "cell_type": "code",
   "execution_count": 613,
   "metadata": {},
   "outputs": [
    {
     "data": {
      "text/plain": [
       "24.000000000000007"
      ]
     },
     "execution_count": 613,
     "metadata": {},
     "output_type": "execute_result"
    }
   ],
   "source": [
    "((1.5 - 1)*(1/6 - 1/10 + (1.5 - 1)*3/(1.5 * 6 * 10)))**(-1)"
   ]
  },
  {
   "cell_type": "code",
   "execution_count": 614,
   "metadata": {},
   "outputs": [
    {
     "data": {
      "text/plain": [
       "-4.166666666666667"
      ]
     },
     "execution_count": 614,
     "metadata": {},
     "output_type": "execute_result"
    }
   ],
   "source": [
    "-(25 * (1.5 - 1) * 3)/(1.5 * 6)"
   ]
  },
  {
   "cell_type": "code",
   "execution_count": 615,
   "metadata": {},
   "outputs": [
    {
     "data": {
      "text/plain": [
       "20.015015015015013"
      ]
     },
     "execution_count": 615,
     "metadata": {},
     "output_type": "execute_result"
    }
   ],
   "source": [
    "((1.333 - 1)*(1/10  + 1/10 + (1.333 - 1)*20/(1.333 * 10 * (-10))))**(-1)"
   ]
  },
  {
   "cell_type": "code",
   "execution_count": 616,
   "metadata": {},
   "outputs": [
    {
     "data": {
      "text/plain": [
       "75.0"
      ]
     },
     "execution_count": 616,
     "metadata": {},
     "output_type": "execute_result"
    }
   ],
   "source": [
    "(1/30 - 1/50)**(-1)"
   ]
  },
  {
   "cell_type": "code",
   "execution_count": 617,
   "metadata": {},
   "outputs": [],
   "source": [
    "import sympy as sp\n",
    "from sympy.parsing.latex import parse_latex\n"
   ]
  },
  {
   "cell_type": "code",
   "execution_count": 618,
   "metadata": {},
   "outputs": [
    {
     "data": {
      "text/latex": [
       "$\\displaystyle 6.79245283018868$"
      ],
      "text/plain": [
       "6.79245283018868"
      ]
     },
     "execution_count": 618,
     "metadata": {},
     "output_type": "execute_result"
    }
   ],
   "source": [
    "latex_str = r\"(1.5 - 1) \\left(\\frac{1}{4} + \\frac{1}{15} + \\frac{(1.5-1)(4)}{(1.5)(4)(-15)}\\right)\"\n",
    "\n",
    "expr = parse_latex(latex_str)\n",
    "expr\n",
    "f = (expr.simplify())**(-1)\n",
    "f"
   ]
  },
  {
   "cell_type": "code",
   "execution_count": 619,
   "metadata": {},
   "outputs": [
    {
     "data": {
      "text/latex": [
       "$\\displaystyle -0.133333333333333$"
      ],
      "text/plain": [
       "-0.133333333333333"
      ]
     },
     "execution_count": 619,
     "metadata": {},
     "output_type": "execute_result"
    }
   ],
   "source": [
    "latex_str =  r\"\\frac{(x)(1.5-1)(4)}{(1.5)(-15)}\"\n",
    "\n",
    "x = sp.symbols('x')\n",
    "expr = parse_latex(latex_str)\n",
    "expr = expr.subs(x, sp.Rational(3, 2))\n",
    "h1 = expr.simplify()\n",
    "h1"
   ]
  },
  {
   "cell_type": "code",
   "execution_count": 620,
   "metadata": {},
   "outputs": [
    {
     "data": {
      "text/latex": [
       "$\\displaystyle -0.735130718954248$"
      ],
      "text/plain": [
       "-0.735130718954248"
      ]
     },
     "execution_count": 620,
     "metadata": {},
     "output_type": "execute_result"
    }
   ],
   "source": [
    "latex_str = r\"\\frac{1}{x} - \\frac{1}{1.0 - y}\"\n",
    "x, y = sp.symbols('x y')\n",
    "expr = parse_latex(latex_str)\n",
    "expr = expr.subs({x: f, y: h1})\n",
    "expr.simplify()"
   ]
  },
  {
   "cell_type": "code",
   "execution_count": 621,
   "metadata": {},
   "outputs": [
    {
     "data": {
      "text/plain": [
       "6.792452830188679"
      ]
     },
     "execution_count": 621,
     "metadata": {},
     "output_type": "execute_result"
    }
   ],
   "source": [
    "f = ((1.5 - 1)*(1/4 + 1/15 + (1.5 - 1)*4/(1.5 * 4 * (-15))))**(-1)\n",
    "f"
   ]
  },
  {
   "cell_type": "code",
   "execution_count": 622,
   "metadata": {},
   "outputs": [
    {
     "data": {
      "text/plain": [
       "0.6037735849056604"
      ]
     },
     "execution_count": 622,
     "metadata": {},
     "output_type": "execute_result"
    }
   ],
   "source": [
    "h1 = -f * (1.5 - 1) * 4/(1.5 * (-15))\n",
    "h1"
   ]
  },
  {
   "cell_type": "code",
   "execution_count": 623,
   "metadata": {},
   "outputs": [
    {
     "data": {
      "text/plain": [
       "-2.2641509433962264"
      ]
     },
     "execution_count": 623,
     "metadata": {},
     "output_type": "execute_result"
    }
   ],
   "source": [
    "h2 = -f * (1.5 - 1) * 4/(1.5 * (4))\n",
    "h2"
   ]
  },
  {
   "cell_type": "code",
   "execution_count": 624,
   "metadata": {},
   "outputs": [
    {
     "data": {
      "text/plain": [
       "-4.363636363636363"
      ]
     },
     "execution_count": 624,
     "metadata": {},
     "output_type": "execute_result"
    }
   ],
   "source": [
    "p = (1/f - 1/(1 + h1))**(-1)\n",
    "h2 + p"
   ]
  },
  {
   "cell_type": "code",
   "execution_count": 625,
   "metadata": {},
   "outputs": [
    {
     "data": {
      "text/latex": [
       "$\\displaystyle \\left[\\begin{matrix}1 & -2 & 1\\\\1 & -2 & 9\\\\5 & 3 & 3\\end{matrix}\\right]$"
      ],
      "text/plain": [
       "Matrix([\n",
       "[1, -2, 1],\n",
       "[1, -2, 9],\n",
       "[5,  3, 3]])"
      ]
     },
     "execution_count": 625,
     "metadata": {},
     "output_type": "execute_result"
    }
   ],
   "source": [
    "A = sp.Matrix([[1, 2, -1], [0, 3, 1], [2, 0, 1]])\n",
    "B = sp.Matrix([[2, 1, 0], [0, -1, 2], [1, 1, 3]])\n",
    "A*B"
   ]
  },
  {
   "cell_type": "code",
   "execution_count": 626,
   "metadata": {},
   "outputs": [
    {
     "data": {
      "text/plain": [
       "36.0"
      ]
     },
     "execution_count": 626,
     "metadata": {},
     "output_type": "execute_result"
    }
   ],
   "source": [
    "(1/9 - 1/12)**(-1)"
   ]
  },
  {
   "cell_type": "code",
   "execution_count": 627,
   "metadata": {},
   "outputs": [
    {
     "data": {
      "text/plain": [
       "{alpha: 1/4}"
      ]
     },
     "execution_count": 627,
     "metadata": {},
     "output_type": "execute_result"
    }
   ],
   "source": [
    "# solve a matrix equation\n",
    "alpha = sp.symbols('alpha')\n",
    "T_1= sp.Matrix([[1, 12],[0, 1]])\n",
    "r_s = sp.Matrix([[0],[alpha]])\n",
    "r_1 = sp.Matrix([[3],[alpha]])\n",
    "\n",
    "# find the value of alpha that satisifies T_1 * r_s = r_1\n",
    "alpha_0 = sp.solve(T_1 * r_s - r_1, alpha)\n",
    "alpha_0"
   ]
  },
  {
   "cell_type": "code",
   "execution_count": 628,
   "metadata": {},
   "outputs": [
    {
     "data": {
      "text/latex": [
       "$\\displaystyle \\left[\\begin{matrix}\\frac{2}{3} & 11\\\\- \\frac{1}{9} & - \\frac{1}{3}\\end{matrix}\\right]$"
      ],
      "text/plain": [
       "Matrix([\n",
       "[ 2/3,   11],\n",
       "[-1/9, -1/3]])"
      ]
     },
     "execution_count": 628,
     "metadata": {},
     "output_type": "execute_result"
    }
   ],
   "source": [
    "T_d = sp.Matrix([[1, 3],[0, 1]])\n",
    "R_1 = sp.Matrix([[1, 0],[-sp.Rational(1,9), 1]])\n",
    "\n",
    "T_d * R_1 * T_1\n",
    "                  "
   ]
  },
  {
   "cell_type": "code",
   "execution_count": 629,
   "metadata": {},
   "outputs": [
    {
     "data": {
      "text/plain": [
       "[]"
      ]
     },
     "execution_count": 629,
     "metadata": {},
     "output_type": "execute_result"
    }
   ],
   "source": [
    "alpha_new = sp.symbols('alpha_new')\n",
    "r_t = sp.Matrix([[1/2],[alpha_new]])\n",
    "\n",
    "alpha_0 = sp.solve(T_d * R_1 * T_1 * r_s - r_t, alpha)\n",
    "alpha_0"
   ]
  },
  {
   "cell_type": "code",
   "execution_count": 630,
   "metadata": {},
   "outputs": [
    {
     "data": {
      "text/plain": [
       "2.5783100780887045"
      ]
     },
     "execution_count": 630,
     "metadata": {},
     "output_type": "execute_result"
    }
   ],
   "source": [
    "0.25 * 180/pi\n",
    "0.045 * 180/pi"
   ]
  },
  {
   "cell_type": "code",
   "execution_count": 631,
   "metadata": {},
   "outputs": [
    {
     "data": {
      "text/plain": [
       "0.045454545454545456"
      ]
     },
     "execution_count": 631,
     "metadata": {},
     "output_type": "execute_result"
    }
   ],
   "source": [
    "0.5/11"
   ]
  },
  {
   "cell_type": "code",
   "execution_count": 632,
   "metadata": {},
   "outputs": [
    {
     "name": "stdout",
     "output_type": "stream",
     "text": [
      "\\left[\\begin{matrix}\\frac{4}{9} & \\frac{31}{3}\\\\- \\frac{1}{9} & - \\frac{1}{3}\\end{matrix}\\right]\n"
     ]
    }
   ],
   "source": [
    "T_2 = sp.Matrix([[1, 2],[0, 1]])\n",
    "\n",
    "T_2 * T_d * R_1 * T_1\n",
    "\n",
    "# print the matrix in latex\n",
    "print(sp.latex(T_2 * T_d * R_1 * T_1))\n"
   ]
  },
  {
   "cell_type": "code",
   "execution_count": 633,
   "metadata": {},
   "outputs": [],
   "source": [
    "r = sp.Matrix([[1], [-0.061]])"
   ]
  },
  {
   "cell_type": "code",
   "execution_count": 634,
   "metadata": {},
   "outputs": [
    {
     "data": {
      "text/plain": [
       "3.5"
      ]
     },
     "execution_count": 634,
     "metadata": {},
     "output_type": "execute_result"
    }
   ],
   "source": [
    "1.75*2"
   ]
  },
  {
   "cell_type": "code",
   "execution_count": 635,
   "metadata": {},
   "outputs": [
    {
     "name": "stdout",
     "output_type": "stream",
     "text": [
      "\\left[\\begin{matrix}-0.185888888888889\\\\-0.0288148148148148\\end{matrix}\\right]\n"
     ]
    }
   ],
   "source": [
    "R_2 = sp.Matrix([[1, 0], [-sp.Rational(1,3), 1]])\n",
    "\n",
    "R_2 * T_2 * T_d * R_1 * T_1\n",
    "\n",
    "# output the matrix in latex\n",
    "print(sp.latex(R_2 * T_2 * T_d * R_1 * T_1 * r))\n",
    "\n"
   ]
  },
  {
   "cell_type": "code",
   "execution_count": 636,
   "metadata": {},
   "outputs": [
    {
     "data": {
      "text/plain": [
       "6.451156812339338"
      ]
     },
     "execution_count": 636,
     "metadata": {},
     "output_type": "execute_result"
    }
   ],
   "source": [
    "0.185888888888889/0.0288148148148148"
   ]
  },
  {
   "cell_type": "code",
   "execution_count": 637,
   "metadata": {},
   "outputs": [
    {
     "data": {
      "text/plain": [
       "10.55"
      ]
     },
     "execution_count": 637,
     "metadata": {},
     "output_type": "execute_result"
    }
   ],
   "source": [
    "(12 + 5) - 6.45"
   ]
  },
  {
   "cell_type": "code",
   "execution_count": 639,
   "metadata": {},
   "outputs": [
    {
     "name": "stdout",
     "output_type": "stream",
     "text": [
      "\\left[\\begin{matrix}1.5665\\\\-0.17\\end{matrix}\\right]\n"
     ]
    }
   ],
   "source": [
    "# latex to sympy\n",
    "\n",
    "\n",
    "expr = parse_latex(latex_str)\n",
    "\n",
    "# calc\n",
    "T = sp.Matrix([[1, -6.45],[0, 1]])\n",
    "r = sp.Matrix([[0.47],[-0.17]])\n",
    "T * r\n",
    "\n",
    "# output the matrix in latex\n",
    "print(sp.latex(T * r))"
   ]
  },
  {
   "cell_type": "code",
   "execution_count": 640,
   "metadata": {},
   "outputs": [
    {
     "data": {
      "text/plain": [
       "3.133"
      ]
     },
     "execution_count": 640,
     "metadata": {},
     "output_type": "execute_result"
    }
   ],
   "source": [
    "1.5665 * 2"
   ]
  },
  {
   "cell_type": "code",
   "execution_count": null,
   "metadata": {},
   "outputs": [],
   "source": []
  }
 ],
 "metadata": {
  "kernelspec": {
   "display_name": "venv",
   "language": "python",
   "name": "python3"
  },
  "language_info": {
   "codemirror_mode": {
    "name": "ipython",
    "version": 3
   },
   "file_extension": ".py",
   "mimetype": "text/x-python",
   "name": "python",
   "nbconvert_exporter": "python",
   "pygments_lexer": "ipython3",
   "version": "3.10.12"
  }
 },
 "nbformat": 4,
 "nbformat_minor": 2
}
