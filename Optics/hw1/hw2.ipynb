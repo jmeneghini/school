{
 "cells": [
  {
   "cell_type": "code",
   "execution_count": 98,
   "metadata": {},
   "outputs": [],
   "source": [
    "from numpy import *"
   ]
  },
  {
   "cell_type": "code",
   "execution_count": 99,
   "metadata": {},
   "outputs": [
    {
     "data": {
      "text/plain": [
       "24.000000000000007"
      ]
     },
     "execution_count": 99,
     "metadata": {},
     "output_type": "execute_result"
    }
   ],
   "source": [
    "((1.5 - 1)*(1/6 - 1/10 + (1.5 - 1)*3/(1.5 * 6 * 10)))**(-1)"
   ]
  },
  {
   "cell_type": "code",
   "execution_count": 100,
   "metadata": {},
   "outputs": [
    {
     "data": {
      "text/plain": [
       "-4.166666666666667"
      ]
     },
     "execution_count": 100,
     "metadata": {},
     "output_type": "execute_result"
    }
   ],
   "source": [
    "-(25 * (1.5 - 1) * 3)/(1.5 * 6)"
   ]
  },
  {
   "cell_type": "code",
   "execution_count": 101,
   "metadata": {},
   "outputs": [
    {
     "data": {
      "text/plain": [
       "20.015015015015013"
      ]
     },
     "execution_count": 101,
     "metadata": {},
     "output_type": "execute_result"
    }
   ],
   "source": [
    "((1.333 - 1)*(1/10  + 1/10 + (1.333 - 1)*20/(1.333 * 10 * (-10))))**(-1)"
   ]
  },
  {
   "cell_type": "code",
   "execution_count": 102,
   "metadata": {},
   "outputs": [
    {
     "data": {
      "text/plain": [
       "75.0"
      ]
     },
     "execution_count": 102,
     "metadata": {},
     "output_type": "execute_result"
    }
   ],
   "source": [
    "(1/30 - 1/50)**(-1)"
   ]
  },
  {
   "cell_type": "code",
   "execution_count": 103,
   "metadata": {},
   "outputs": [],
   "source": [
    "import sympy as sp\n",
    "from sympy.parsing.latex import parse_latex\n"
   ]
  },
  {
   "cell_type": "code",
   "execution_count": 104,
   "metadata": {},
   "outputs": [
    {
     "data": {
      "text/latex": [
       "$\\displaystyle 6.79245283018868$"
      ],
      "text/plain": [
       "6.79245283018868"
      ]
     },
     "execution_count": 104,
     "metadata": {},
     "output_type": "execute_result"
    }
   ],
   "source": [
    "latex_str = r\"(1.5 - 1) \\left(\\frac{1}{4} + \\frac{1}{15} + \\frac{(1.5-1)(4)}{(1.5)(4)(-15)}\\right)\"\n",
    "\n",
    "expr = parse_latex(latex_str)\n",
    "expr\n",
    "f = (expr.simplify())**(-1)\n",
    "f"
   ]
  },
  {
   "cell_type": "code",
   "execution_count": 105,
   "metadata": {},
   "outputs": [
    {
     "data": {
      "text/latex": [
       "$\\displaystyle -0.133333333333333$"
      ],
      "text/plain": [
       "-0.133333333333333"
      ]
     },
     "execution_count": 105,
     "metadata": {},
     "output_type": "execute_result"
    }
   ],
   "source": [
    "latex_str =  r\"\\frac{(x)(1.5-1)(4)}{(1.5)(-15)}\"\n",
    "\n",
    "x = sp.symbols('x')\n",
    "expr = parse_latex(latex_str)\n",
    "expr = expr.subs(x, sp.Rational(3, 2))\n",
    "h1 = expr.simplify()\n",
    "h1"
   ]
  },
  {
   "cell_type": "code",
   "execution_count": 106,
   "metadata": {},
   "outputs": [
    {
     "data": {
      "text/latex": [
       "$\\displaystyle -0.735130718954248$"
      ],
      "text/plain": [
       "-0.735130718954248"
      ]
     },
     "execution_count": 106,
     "metadata": {},
     "output_type": "execute_result"
    }
   ],
   "source": [
    "latex_str = r\"\\frac{1}{x} - \\frac{1}{1.0 - y}\"\n",
    "x, y = sp.symbols('x y')\n",
    "expr = parse_latex(latex_str)\n",
    "expr = expr.subs({x: f, y: h1})\n",
    "expr.simplify()"
   ]
  },
  {
   "cell_type": "code",
   "execution_count": 107,
   "metadata": {},
   "outputs": [
    {
     "data": {
      "text/plain": [
       "6.792452830188679"
      ]
     },
     "execution_count": 107,
     "metadata": {},
     "output_type": "execute_result"
    }
   ],
   "source": [
    "f = ((1.5 - 1)*(1/4 + 1/15 + (1.5 - 1)*4/(1.5 * 4 * (-15))))**(-1)\n",
    "f"
   ]
  },
  {
   "cell_type": "code",
   "execution_count": 108,
   "metadata": {},
   "outputs": [
    {
     "data": {
      "text/plain": [
       "0.6037735849056604"
      ]
     },
     "execution_count": 108,
     "metadata": {},
     "output_type": "execute_result"
    }
   ],
   "source": [
    "h1 = -f * (1.5 - 1) * 4/(1.5 * (-15))\n",
    "h1"
   ]
  },
  {
   "cell_type": "code",
   "execution_count": 109,
   "metadata": {},
   "outputs": [
    {
     "data": {
      "text/plain": [
       "-2.2641509433962264"
      ]
     },
     "execution_count": 109,
     "metadata": {},
     "output_type": "execute_result"
    }
   ],
   "source": [
    "h2 = -f * (1.5 - 1) * 4/(1.5 * (4))\n",
    "h2"
   ]
  },
  {
   "cell_type": "code",
   "execution_count": 110,
   "metadata": {},
   "outputs": [
    {
     "data": {
      "text/plain": [
       "-4.363636363636363"
      ]
     },
     "execution_count": 110,
     "metadata": {},
     "output_type": "execute_result"
    }
   ],
   "source": [
    "p = (1/f - 1/(1 + h1))**(-1)\n",
    "h2 + p"
   ]
  },
  {
   "cell_type": "code",
   "execution_count": 111,
   "metadata": {},
   "outputs": [
    {
     "data": {
      "text/latex": [
       "$\\displaystyle \\left[\\begin{matrix}1 & -2 & 1\\\\1 & -2 & 9\\\\5 & 3 & 3\\end{matrix}\\right]$"
      ],
      "text/plain": [
       "Matrix([\n",
       "[1, -2, 1],\n",
       "[1, -2, 9],\n",
       "[5,  3, 3]])"
      ]
     },
     "execution_count": 111,
     "metadata": {},
     "output_type": "execute_result"
    }
   ],
   "source": [
    "A = sp.Matrix([[1, 2, -1], [0, 3, 1], [2, 0, 1]])\n",
    "B = sp.Matrix([[2, 1, 0], [0, -1, 2], [1, 1, 3]])\n",
    "A*B"
   ]
  },
  {
   "cell_type": "code",
   "execution_count": 112,
   "metadata": {},
   "outputs": [
    {
     "data": {
      "text/plain": [
       "36.0"
      ]
     },
     "execution_count": 112,
     "metadata": {},
     "output_type": "execute_result"
    }
   ],
   "source": [
    "(1/9 - 1/12)**(-1)"
   ]
  },
  {
   "cell_type": "code",
   "execution_count": 113,
   "metadata": {},
   "outputs": [
    {
     "data": {
      "text/plain": [
       "{alpha: 1/4}"
      ]
     },
     "execution_count": 113,
     "metadata": {},
     "output_type": "execute_result"
    }
   ],
   "source": [
    "# solve a matrix equation\n",
    "alpha = sp.symbols('alpha')\n",
    "T_1= sp.Matrix([[1, 12],[0, 1]])\n",
    "r_s = sp.Matrix([[0],[alpha]])\n",
    "r_1 = sp.Matrix([[3],[alpha]])\n",
    "\n",
    "# find the value of alpha that satisifies T_1 * r_s = r_1\n",
    "alpha_0 = sp.solve(T_1 * r_s - r_1, alpha)\n",
    "alpha_0"
   ]
  },
  {
   "cell_type": "code",
   "execution_count": 114,
   "metadata": {},
   "outputs": [
    {
     "data": {
      "text/latex": [
       "$\\displaystyle \\left[\\begin{matrix}\\frac{2}{3} & 11\\\\- \\frac{1}{9} & - \\frac{1}{3}\\end{matrix}\\right]$"
      ],
      "text/plain": [
       "Matrix([\n",
       "[ 2/3,   11],\n",
       "[-1/9, -1/3]])"
      ]
     },
     "execution_count": 114,
     "metadata": {},
     "output_type": "execute_result"
    }
   ],
   "source": [
    "T_d = sp.Matrix([[1, 3],[0, 1]])\n",
    "R_1 = sp.Matrix([[1, 0],[-sp.Rational(1,9), 1]])\n",
    "\n",
    "T_d * R_1 * T_1\n",
    "                  "
   ]
  },
  {
   "cell_type": "code",
   "execution_count": 115,
   "metadata": {},
   "outputs": [
    {
     "data": {
      "text/plain": [
       "{alpha: 0.0454545454545455}"
      ]
     },
     "execution_count": 115,
     "metadata": {},
     "output_type": "execute_result"
    }
   ],
   "source": [
    "alpha_new = (0.5 - 12*alpha)/3\n",
    "r_t = sp.Matrix([[1/2],[alpha_new]])\n",
    "\n",
    "alpha_0 = sp.solve(T_d * R_1 * T_1 * r_s - r_t, alpha)\n",
    "alpha_0"
   ]
  },
  {
   "cell_type": "code",
   "execution_count": null,
   "metadata": {},
   "outputs": [],
   "source": []
  }
 ],
 "metadata": {
  "kernelspec": {
   "display_name": "venv",
   "language": "python",
   "name": "python3"
  },
  "language_info": {
   "codemirror_mode": {
    "name": "ipython",
    "version": 3
   },
   "file_extension": ".py",
   "mimetype": "text/x-python",
   "name": "python",
   "nbconvert_exporter": "python",
   "pygments_lexer": "ipython3",
   "version": "3.10.12"
  }
 },
 "nbformat": 4,
 "nbformat_minor": 2
}
