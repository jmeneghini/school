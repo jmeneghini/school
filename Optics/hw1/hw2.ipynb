{
 "cells": [
  {
   "cell_type": "code",
   "execution_count": 29,
   "metadata": {},
   "outputs": [],
   "source": [
    "from numpy import *"
   ]
  },
  {
   "cell_type": "code",
   "execution_count": 30,
   "metadata": {},
   "outputs": [
    {
     "data": {
      "text/plain": [
       "24.000000000000007"
      ]
     },
     "execution_count": 30,
     "metadata": {},
     "output_type": "execute_result"
    }
   ],
   "source": [
    "((1.5 - 1)*(1/6 - 1/10 + (1.5 - 1)*3/(1.5 * 6 * 10)))**(-1)"
   ]
  },
  {
   "cell_type": "code",
   "execution_count": 31,
   "metadata": {},
   "outputs": [
    {
     "data": {
      "text/plain": [
       "-4.166666666666667"
      ]
     },
     "execution_count": 31,
     "metadata": {},
     "output_type": "execute_result"
    }
   ],
   "source": [
    "-(25 * (1.5 - 1) * 3)/(1.5 * 6)"
   ]
  },
  {
   "cell_type": "code",
   "execution_count": 32,
   "metadata": {},
   "outputs": [
    {
     "data": {
      "text/plain": [
       "20.015015015015013"
      ]
     },
     "execution_count": 32,
     "metadata": {},
     "output_type": "execute_result"
    }
   ],
   "source": [
    "((1.333 - 1)*(1/10  + 1/10 + (1.333 - 1)*20/(1.333 * 10 * (-10))))**(-1)"
   ]
  },
  {
   "cell_type": "code",
   "execution_count": 33,
   "metadata": {},
   "outputs": [
    {
     "data": {
      "text/plain": [
       "75.0"
      ]
     },
     "execution_count": 33,
     "metadata": {},
     "output_type": "execute_result"
    }
   ],
   "source": [
    "(1/30 - 1/50)**(-1)"
   ]
  },
  {
   "cell_type": "code",
   "execution_count": 34,
   "metadata": {},
   "outputs": [],
   "source": [
    "import sympy as sp\n",
    "from sympy.parsing.latex import parse_latex\n"
   ]
  },
  {
   "cell_type": "code",
   "execution_count": 35,
   "metadata": {},
   "outputs": [
    {
     "data": {
      "text/plain": [
       "6.792452830188679"
      ]
     },
     "execution_count": 35,
     "metadata": {},
     "output_type": "execute_result"
    }
   ],
   "source": [
    "f = ((1.5 - 1)*(1/4 + 1/15 + (1.5 - 1)*4/(1.5 * 4 * (-15))))**(-1)\n",
    "f"
   ]
  },
  {
   "cell_type": "code",
   "execution_count": 36,
   "metadata": {},
   "outputs": [
    {
     "data": {
      "text/plain": [
       "0.6037735849056604"
      ]
     },
     "execution_count": 36,
     "metadata": {},
     "output_type": "execute_result"
    }
   ],
   "source": [
    "h1 = -f * (1.5 - 1) * 4/(1.5 * (-15))\n",
    "h1"
   ]
  },
  {
   "cell_type": "code",
   "execution_count": 37,
   "metadata": {},
   "outputs": [
    {
     "data": {
      "text/plain": [
       "-2.2641509433962264"
      ]
     },
     "execution_count": 37,
     "metadata": {},
     "output_type": "execute_result"
    }
   ],
   "source": [
    "h2 = -f * (1.5 - 1) * 4/(1.5 * (4))\n",
    "h2"
   ]
  },
  {
   "cell_type": "code",
   "execution_count": 38,
   "metadata": {},
   "outputs": [
    {
     "data": {
      "text/plain": [
       "-4.363636363636363"
      ]
     },
     "execution_count": 38,
     "metadata": {},
     "output_type": "execute_result"
    }
   ],
   "source": [
    "p = (1/f - 1/(1 + h1))**(-1)\n",
    "h2 + p"
   ]
  },
  {
   "cell_type": "code",
   "execution_count": 39,
   "metadata": {},
   "outputs": [
    {
     "data": {
      "text/latex": [
       "$\\displaystyle \\left[\\begin{matrix}1 & -2 & 1\\\\1 & -2 & 9\\\\5 & 3 & 3\\end{matrix}\\right]$"
      ],
      "text/plain": [
       "Matrix([\n",
       "[1, -2, 1],\n",
       "[1, -2, 9],\n",
       "[5,  3, 3]])"
      ]
     },
     "execution_count": 39,
     "metadata": {},
     "output_type": "execute_result"
    }
   ],
   "source": [
    "A = sp.Matrix([[1, 2, -1], [0, 3, 1], [2, 0, 1]])\n",
    "B = sp.Matrix([[2, 1, 0], [0, -1, 2], [1, 1, 3]])\n",
    "A*B"
   ]
  },
  {
   "cell_type": "code",
   "execution_count": 40,
   "metadata": {},
   "outputs": [],
   "source": [
    "# Problem 3\n",
    "def L(l):\n",
    "    return sp.Matrix([[1, l], [0, 1]])\n",
    "    \n",
    "def R(f):\n",
    "    return sp.Matrix([[1, 0], [-sp.Rational(1, f), 1]])\n",
    "    \n",
    "def vector(x, y):\n",
    "    return sp.Matrix([[x], [y]])\n"
   ]
  },
  {
   "cell_type": "code",
   "execution_count": 41,
   "metadata": {},
   "outputs": [],
   "source": [
    "s = 12 # cm\n",
    "f1 = 9\n",
    "f2 = 3\n",
    "d1 = 3\n",
    "d2 = 2\n",
    "r1 = 3\n",
    "r2 = 2\n",
    "rd = 0.5"
   ]
  },
  {
   "cell_type": "code",
   "execution_count": 42,
   "metadata": {},
   "outputs": [
    {
     "data": {
      "text/plain": [
       "{alpha_0: 1/4}"
      ]
     },
     "execution_count": 42,
     "metadata": {},
     "output_type": "execute_result"
    }
   ],
   "source": [
    "# L1 marginal angle\n",
    "alpha_0 = sp.symbols('alpha_0')\n",
    "\n",
    "r_s = vector(0, alpha_0)\n",
    "\n",
    "# solve for alpha_1\n",
    "L_s1 = L(s)\n",
    "\n",
    "sp.solve(L_s1*r_s - vector(r1, alpha_0), alpha_0)\n",
    "\n"
   ]
  },
  {
   "cell_type": "code",
   "execution_count": 43,
   "metadata": {},
   "outputs": [],
   "source": [
    "# diaphragm marginal angle\n",
    "\n",
    "R_1 = R(f1)\n",
    "L_1d = L(d1)\n",
    "\n",
    "alpha_1 = sp.symbols('alpha_1')\n",
    "\n",
    "M_sd = L_1d*R_1*L_s1\n",
    "\n",
    "alpha_m_n = sp.solve(M_sd*r_s - vector(rd, alpha_1), [alpha_0, alpha_1])[alpha_0]"
   ]
  },
  {
   "cell_type": "code",
   "execution_count": 44,
   "metadata": {},
   "outputs": [
    {
     "data": {
      "text/plain": [
       "{alpha_0: 6/31, alpha_2: -68/93}"
      ]
     },
     "execution_count": 44,
     "metadata": {},
     "output_type": "execute_result"
    }
   ],
   "source": [
    "# L2 marginal angle\n",
    "L_d2 = L(d2)\n",
    "R_2 = R(f2)\n",
    "\n",
    "alpha_2 = sp.symbols('alpha_2')\n",
    "\n",
    "M_s2 = R_2*L_d2*M_sd\n",
    "sp.solve(M_s2*r_s - vector(r2, alpha_2), [alpha_0, alpha_1, alpha_2])"
   ]
  },
  {
   "cell_type": "code",
   "execution_count": 45,
   "metadata": {},
   "outputs": [
    {
     "data": {
      "text/latex": [
       "$\\displaystyle - \\frac{2}{33}$"
      ],
      "text/plain": [
       "-2/33"
      ]
     },
     "execution_count": 45,
     "metadata": {},
     "output_type": "execute_result"
    }
   ],
   "source": [
    "# Tracing chief ray\n",
    "r_c_s = vector(1, alpha_0)\n",
    "\n",
    "r_c_d = vector(0, alpha_1)\n",
    "\n",
    "\n",
    "alpha_0_n = sp.solve(M_sd*r_c_s - r_c_d, [alpha_0, alpha_1])[alpha_0]\n",
    "alpha_0_n"
   ]
  },
  {
   "cell_type": "code",
   "execution_count": 46,
   "metadata": {},
   "outputs": [
    {
     "data": {
      "text/latex": [
       "$\\displaystyle \\frac{33}{2}$"
      ],
      "text/plain": [
       "33/2"
      ]
     },
     "execution_count": 46,
     "metadata": {},
     "output_type": "execute_result"
    }
   ],
   "source": [
    "# Forward tracing, no refraction, untl height is zero\n",
    "\n",
    "r_c_s = vector(1, alpha_0_n)\n",
    "\n",
    "l = sp.symbols(\"L\")\n",
    "\n",
    "L_l = L(l)\n",
    "\n",
    "l_sep = sp.solve(L_l*r_c_s - r_c_d, l)[l]\n",
    "l_sep"
   ]
  },
  {
   "cell_type": "code",
   "execution_count": 47,
   "metadata": {},
   "outputs": [
    {
     "data": {
      "text/latex": [
       "$\\displaystyle \\left[\\begin{matrix}0.75\\\\0.0454545454545455\\end{matrix}\\right]$"
      ],
      "text/plain": [
       "Matrix([\n",
       "[              0.75],\n",
       "[0.0454545454545455]])"
      ]
     },
     "execution_count": 47,
     "metadata": {},
     "output_type": "execute_result"
    }
   ],
   "source": [
    "# forward trace marginal ray, no refraction, a distance l_sep\n",
    "r_m_s = vector(0, alpha_m_n)\n",
    "\n",
    "L_sep = L(l_sep)\n",
    "\n",
    "r_m_ep = L_sep*r_m_s\n",
    "r_m_ep\n",
    "# so diameter of entrace pupil is 0.75*2 = 1.5 cm"
   ]
  },
  {
   "cell_type": "code",
   "execution_count": 48,
   "metadata": {},
   "outputs": [],
   "source": [
    "# now we need to backtrace chief ray after refraction at L2\n",
    "\n",
    "r_c_2 = M_s2 * r_c_s\n",
    "l_exp = sp.solve(L_l*r_c_2 - vector(0, r_c_2[1]), l)[l]"
   ]
  },
  {
   "cell_type": "code",
   "execution_count": 49,
   "metadata": {},
   "outputs": [
    {
     "data": {
      "text/latex": [
       "$\\displaystyle \\left[\\begin{matrix}1.5\\\\-0.171717171717172\\end{matrix}\\right]$"
      ],
      "text/plain": [
       "Matrix([\n",
       "[               1.5],\n",
       "[-0.171717171717172]])"
      ]
     },
     "execution_count": 49,
     "metadata": {},
     "output_type": "execute_result"
    }
   ],
   "source": [
    "# now backtrace marginal ray after refraction at L2 to get diameter of exit pupil\n",
    "r_m_2 = M_s2 * r_m_s\n",
    "L_exp = L(l_exp)\n",
    "L_exp * r_m_2\n",
    "\n",
    "# so diameter of exit pupil is 1.5*2 = 3 cm"
   ]
  },
  {
   "cell_type": "code",
   "execution_count": 50,
   "metadata": {},
   "outputs": [],
   "source": [
    "# Thick lens formulae\n",
    "def f_thick(R1, R2, d, n):\n",
    "    return ((n - 1)*(1/R1 - 1/R2 + (n - 1)*d/(n*R1*R2)))**(-1)\n",
    "\n",
    "def h1_thick(f, R2, d, n):\n",
    "    return -f * (n - 1)*d/(n*R2)\n",
    "\n",
    "def h2_thick(f, R1, d, n):\n",
    "    return -f * (n - 1)*d/(n*R1)"
   ]
  },
  {
   "cell_type": "code",
   "execution_count": 51,
   "metadata": {},
   "outputs": [
    {
     "data": {
      "text/plain": [
       "24.000000000000007"
      ]
     },
     "execution_count": 51,
     "metadata": {},
     "output_type": "execute_result"
    }
   ],
   "source": [
    "# Problem 6\n",
    "R1 = 6\n",
    "R2 = 10\n",
    "d = 3\n",
    "n = 1.5\n",
    "\n",
    "f = f_thick(R1, R2, d, n)\n",
    "f"
   ]
  },
  {
   "cell_type": "code",
   "execution_count": 52,
   "metadata": {},
   "outputs": [
    {
     "data": {
      "text/plain": [
       "(-2.400000000000001, -4.000000000000002)"
      ]
     },
     "execution_count": 52,
     "metadata": {},
     "output_type": "execute_result"
    }
   ],
   "source": [
    "h1 = h1_thick(f, R2, d, n)\n",
    "h2 = h2_thick(f, R1, d, n)\n",
    "h1, h2"
   ]
  },
  {
   "cell_type": "code",
   "execution_count": 54,
   "metadata": {},
   "outputs": [
    {
     "data": {
      "text/plain": [
       "20.015015015015013"
      ]
     },
     "execution_count": 54,
     "metadata": {},
     "output_type": "execute_result"
    }
   ],
   "source": [
    "# Problem 7\n",
    "R1 = 10\n",
    "R2 = -10\n",
    "d = 20\n",
    "n = 1.333\n",
    "\n",
    "f = f_thick(R1, R2, d, n)\n",
    "f"
   ]
  },
  {
   "cell_type": "code",
   "execution_count": null,
   "metadata": {},
   "outputs": [],
   "source": [
    "# Problem 8\n"
   ]
  }
 ],
 "metadata": {
  "kernelspec": {
   "display_name": "venv",
   "language": "python",
   "name": "python3"
  },
  "language_info": {
   "codemirror_mode": {
    "name": "ipython",
    "version": 3
   },
   "file_extension": ".py",
   "mimetype": "text/x-python",
   "name": "python",
   "nbconvert_exporter": "python",
   "pygments_lexer": "ipython3",
   "version": "3.10.12"
  }
 },
 "nbformat": 4,
 "nbformat_minor": 2
}
