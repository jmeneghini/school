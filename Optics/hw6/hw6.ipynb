{
 "cells": [
  {
   "cell_type": "code",
   "execution_count": 286,
   "metadata": {},
   "outputs": [],
   "source": [
    "import numpy as np\n",
    "import matplotlib.pyplot as plt\n",
    "# import scienceplots\n",
    "import pint\n",
    "# plt.style.use('science')"
   ]
  },
  {
   "cell_type": "code",
   "execution_count": 287,
   "metadata": {},
   "outputs": [],
   "source": [
    "# add utility\n",
    "import sys\n",
    "sys.path.append('/home/john/SchoolCode/utility')\n",
    "from utility import plots\n",
    "plots.set_style()"
   ]
  },
  {
   "cell_type": "code",
   "execution_count": 288,
   "metadata": {},
   "outputs": [],
   "source": [
    "ureg = pint.UnitRegistry()"
   ]
  },
  {
   "cell_type": "code",
   "execution_count": 289,
   "metadata": {},
   "outputs": [
    {
     "data": {
      "text/plain": [
       "'12.75 degree'"
      ]
     },
     "execution_count": 289,
     "metadata": {},
     "output_type": "execute_result"
    }
   ],
   "source": [
    "theta_i = 20 * ureg.deg\n",
    "n_i = 1.00\n",
    "n_t = 1.55\n",
    "theta_t = np.arcsin(n_i / n_t * np.sin(theta_i)).to(ureg.deg)\n",
    "f\"{theta_t:.2f}\""
   ]
  },
  {
   "cell_type": "code",
   "execution_count": 290,
   "metadata": {},
   "outputs": [
    {
     "data": {
      "text/plain": [
       "'r_p = -0.198 dimensionless, r_s = -0.233 dimensionless'"
      ]
     },
     "execution_count": 290,
     "metadata": {},
     "output_type": "execute_result"
    }
   ],
   "source": [
    "r_p = (n_i * np.cos(theta_t) - n_t * np.cos(theta_i)) / (n_i * np.cos(theta_t) + n_t * np.cos(theta_i))\n",
    "r_s = (n_i * np.cos(theta_i) - n_t * np.cos(theta_t)) / (n_i * np.cos(theta_i) + n_t * np.cos(theta_t))\n",
    "f\"r_p = {r_p:.3f}, r_s = {r_s:.3f}\""
   ]
  },
  {
   "cell_type": "code",
   "execution_count": 291,
   "metadata": {},
   "outputs": [],
   "source": [
    "E_i_p = 10 * ureg.V/ureg.meter\n",
    "E_i_s = 20 * ureg.V/ureg.meter"
   ]
  },
  {
   "cell_type": "code",
   "execution_count": 292,
   "metadata": {},
   "outputs": [
    {
     "data": {
      "text/plain": [
       "'E_r_p = -1.98 volt / meter, E_r_s = -4.67 volt / meter'"
      ]
     },
     "execution_count": 292,
     "metadata": {},
     "output_type": "execute_result"
    }
   ],
   "source": [
    "E_r_p = r_p * E_i_p\n",
    "E_r_s = r_s * E_i_s\n",
    "f\"E_r_p = {E_r_p:.2f}, E_r_s = {E_r_s:.2f}\""
   ]
  },
  {
   "cell_type": "code",
   "execution_count": 293,
   "metadata": {},
   "outputs": [
    {
     "data": {
      "image/png": "[encoded data removed]",
      "text/plain": [
       "<Figure size 432x288 with 1 Axes>"
      ]
     },
     "metadata": {
      "needs_background": "light"
     },
     "output_type": "display_data"
    }
   ],
   "source": [
    "#2\n",
    "def r_parallel(n_i, n_t, theta_i):\n",
    "    theta_t = np.arcsin(n_i / n_t * np.sin(theta_i))\n",
    "    r_p = (n_t * np.cos(theta_i) - n_i * np.cos(theta_t)) / (n_i * np.cos(theta_t) + n_t * np.cos(theta_i))\n",
    "    return r_p**2\n",
    "\n",
    "def r_perp(n_i, n_t, theta_i):\n",
    "    theta_t = np.arcsin(n_i / n_t * np.sin(theta_i))\n",
    "    r_s = (n_i * np.cos(theta_i) - n_t * np.cos(theta_t)) / (n_i * np.cos(theta_i) + n_t * np.cos(theta_t))\n",
    "    return r_s**2\n",
    "\n",
    "theta_i = np.linspace(0, 90, 10000) * ureg.deg\n",
    "\n",
    "n_t = 1.00\n",
    "n_i = 1.50\n",
    "r_parallel = r_parallel(n_i, n_t, theta_i)\n",
    "r_perp = r_perp(n_i, n_t, theta_i)\n",
    "\n",
    "# plot\n",
    "fig, ax = plt.subplots()\n",
    "\n",
    "# draw vertical line at max angle\n",
    "r_parallel_max = theta_i[np.argmax(r_parallel)]\n",
    "ax.axvline(r_parallel_max.magnitude, color='grey', linestyle='--')\n",
    "# attach text to line, specifing max angle\n",
    "ax.text(r_parallel_max.magnitude + 1, 0.1, f'$\\\\theta_{{max}} = {r_parallel_max.magnitude:.2f}^\\circ$', fontsize=12)\n",
    "\n",
    "# arrow across space from max angle to 90\n",
    "ax.annotate('', xy=(r_parallel_max.magnitude, 0.5), xytext=(90, 0.5), arrowprops=dict(arrowstyle='<->'))\n",
    "# add text\n",
    "ax.text(50, 0.52, 'Total internal reflection', fontsize=12)\n",
    "\n",
    "ax.plot(theta_i, r_parallel, label='$R_\\parallel$', linewidth=2, linestyle='-', color = \"black\")\n",
    "ax.plot(theta_i, r_perp, label='$R_\\perp$', linewidth=2, linestyle='-.', color = \"black\")\n",
    "\n",
    "ax.set_xlabel('Incident angle ($^\\circ$)')\n",
    "ax.set_ylabel('Reflection coefficient')\n",
    "\n",
    "ax.set_xlim(0, 90)\n",
    "\n",
    "ax.set_title('Reflection coefficients for $n_i = 1.50$ and $n_t = 1.00$')\n",
    "\n",
    "ax.set_ylim(0, 1)\n",
    "\n",
    "ax.legend()\n",
    "\n",
    "plt.savefig('reflection_coefficients.pdf', dpi=300)"
   ]
  },
  {
   "cell_type": "markdown",
   "metadata": {},
   "source": []
  },
  {
   "cell_type": "code",
   "execution_count": null,
   "metadata": {},
   "outputs": [],
   "source": []
  }
 ],
 "metadata": {
  "kernelspec": {
   "display_name": "Python 3",
   "language": "python",
   "name": "python3"
  },
  "language_info": {
   "codemirror_mode": {
    "name": "ipython",
    "version": 3
   },
   "file_extension": ".py",
   "mimetype": "text/x-python",
   "name": "python",
   "nbconvert_exporter": "python",
   "pygments_lexer": "ipython3",
   "version": "3.10.12"
  }
 },
 "nbformat": 4,
 "nbformat_minor": 2
}
