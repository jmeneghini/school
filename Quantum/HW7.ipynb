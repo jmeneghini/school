{
 "cells": [
  {
   "cell_type": "code",
   "execution_count": 54,
   "metadata": {},
   "outputs": [],
   "source": [
    "import pint\n",
    "import numpy as np\n",
    "from scipy.constants import c, h"
   ]
  },
  {
   "cell_type": "code",
   "execution_count": 55,
   "metadata": {},
   "outputs": [],
   "source": [
    "ureg = pint.UnitRegistry()"
   ]
  },
  {
   "cell_type": "code",
   "execution_count": 56,
   "metadata": {},
   "outputs": [],
   "source": [
    "m_n = 939 * ureg.MeV/ureg.c**2\n",
    "h_bar = h/(2*np.pi) * ureg.J * ureg.s\n",
    "a = 8*ureg.fm"
   ]
  },
  {
   "cell_type": "code",
   "execution_count": 57,
   "metadata": {},
   "outputs": [],
   "source": [
    "def E(n):\n",
    "    return (n**2 * np.pi**2 * h_bar**2)/(2*m_n * a**2)"
   ]
  },
  {
   "cell_type": "code",
   "execution_count": 58,
   "metadata": {},
   "outputs": [
    {
     "data": {
      "text/html": [
       "3.197401129260512 megaelectron_volt"
      ],
      "text/latex": [
       "$3.197401129260512\\ \\mathrm{megaelectron\\_volt}$"
      ],
      "text/plain": [
       "3.197401129260512 <Unit('megaelectron_volt')>"
      ]
     },
     "execution_count": 58,
     "metadata": {},
     "output_type": "execute_result"
    }
   ],
   "source": [
    "E_1 = E(1)\n",
    "E_1.to(ureg.MeV)"
   ]
  },
  {
   "cell_type": "code",
   "execution_count": 59,
   "metadata": {},
   "outputs": [
    {
     "data": {
      "text/html": [
       "12.789604517042047 megaelectron_volt"
      ],
      "text/latex": [
       "$12.789604517042047\\ \\mathrm{megaelectron\\_volt}$"
      ],
      "text/plain": [
       "12.789604517042047 <Unit('megaelectron_volt')>"
      ]
     },
     "execution_count": 59,
     "metadata": {},
     "output_type": "execute_result"
    }
   ],
   "source": [
    "E_2 = E(2)\n",
    "E_2.to(ureg.MeV)"
   ]
  },
  {
   "cell_type": "code",
   "execution_count": 60,
   "metadata": {},
   "outputs": [
    {
     "data": {
      "text/html": [
       "28.776610163344607 megaelectron_volt"
      ],
      "text/latex": [
       "$28.776610163344607\\ \\mathrm{megaelectron\\_volt}$"
      ],
      "text/plain": [
       "28.776610163344607 <Unit('megaelectron_volt')>"
      ]
     },
     "execution_count": 60,
     "metadata": {},
     "output_type": "execute_result"
    }
   ],
   "source": [
    "E_3 = E(3)\n",
    "E_3.to(ureg.MeV)"
   ]
  },
  {
   "cell_type": "code",
   "execution_count": 61,
   "metadata": {},
   "outputs": [
    {
     "data": {
      "text/html": [
       "19.18440677556307 megaelectron_volt"
      ],
      "text/latex": [
       "$19.18440677556307\\ \\mathrm{megaelectron\\_volt}$"
      ],
      "text/plain": [
       "19.18440677556307 <Unit('megaelectron_volt')>"
      ]
     },
     "execution_count": 61,
     "metadata": {},
     "output_type": "execute_result"
    }
   ],
   "source": [
    "# expectation value\n",
    "E = 2/7 * E_1 + 1/7 * E_2 + 4/7 * E_3\n",
    "E.to(ureg.MeV)"
   ]
  }
 ],
 "metadata": {
  "kernelspec": {
   "display_name": "Python 3",
   "language": "python",
   "name": "python3"
  },
  "language_info": {
   "codemirror_mode": {
    "name": "ipython",
    "version": 3
   },
   "file_extension": ".py",
   "mimetype": "text/x-python",
   "name": "python",
   "nbconvert_exporter": "python",
   "pygments_lexer": "ipython3",
   "version": "3.10.13"
  }
 },
 "nbformat": 4,
 "nbformat_minor": 2
}
