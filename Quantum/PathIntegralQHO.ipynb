{
 "cells": [
  {
   "cell_type": "code",
   "execution_count": 1211,
   "metadata": {},
   "outputs": [],
   "source": [
    "import numpy as np\n",
    "import matplotlib.pyplot as plt\n",
    "from scipy.integrate import nquad\n",
    "from scipy.constants import hbar, m_e\n",
    "import vegas"
   ]
  },
  {
   "cell_type": "markdown",
   "metadata": {},
   "source": [
    "# Path Integral Approach to the Quantum Harmonic Oscillator"
   ]
  },
  {
   "cell_type": "code",
   "execution_count": 1212,
   "metadata": {},
   "outputs": [],
   "source": [
    "# add root folder to path\n",
    "import sys\n",
    "sys.path.append('../')\n",
    "\n",
    "from utility import plots\n",
    "plots.set_style()"
   ]
  },
  {
   "cell_type": "code",
   "execution_count": 1213,
   "metadata": {},
   "outputs": [],
   "source": [
    "# simulation parameters\n",
    "a = 0.5\n",
    "N = 8 # slices of configuration space\n",
    "m = 1 # mass of particle\n",
    "A = (m/(2 * np.pi * a))**(N/2) # normalization constant"
   ]
  },
  {
   "cell_type": "code",
   "execution_count": 1214,
   "metadata": {},
   "outputs": [
    {
     "data": {
      "text/plain": [
       "4.0"
      ]
     },
     "execution_count": 1214,
     "metadata": {},
     "output_type": "execute_result"
    }
   ],
   "source": [
    "# descretization of the time interval and therefore path\n",
    "T = N * a\n",
    "T"
   ]
  },
  {
   "cell_type": "code",
   "execution_count": 1215,
   "metadata": {},
   "outputs": [],
   "source": [
    "def QHOPotential(x_eval): # potential function\n",
    "    return x_eval**2/2"
   ]
  },
  {
   "cell_type": "code",
   "execution_count": 1216,
   "metadata": {},
   "outputs": [],
   "source": [
    "def calcAction(x_grid, potential, x):\n",
    "    action = 0\n",
    "    # Sum action over the range from 0 to N-1\n",
    "    for i in range(N):\n",
    "        kinetic = m * (x_grid[i + 1] - x_grid[i]) ** 2 / (2 * a)\n",
    "        potential_energy = a * potential(x_grid[i])\n",
    "        action += kinetic + potential_energy\n",
    "\n",
    "    return action\n"
   ]
  },
  {
   "cell_type": "code",
   "execution_count": 1217,
   "metadata": {},
   "outputs": [],
   "source": [
    "def pathIntegralIntegrand(x_vals, potential, x):\n",
    "    # Add the boundary conditions (x_0 = x_N = x)\n",
    "    x_full = np.concatenate(([x], x_vals, [x]))\n",
    "    return np.exp(-calcAction(x_full, potential, x))\n",
    "\n",
    "# This function computes the path integral using vegas\n",
    "def calcPathIntegral(potential, x):\n",
    "    # Define the limits for N-1 [x_1, x_N-1] variables\n",
    "    limits = [[-5, 5]] * (N - 1)\n",
    "    # Initialize the vegas Integrator\n",
    "    integ = vegas.Integrator(limits)\n",
    "    \n",
    "    # Define the integrand for vegas, which takes a single argument\n",
    "    def vegas_integrand(x_vals):\n",
    "        return pathIntegralIntegrand(x_vals, potential, x)\n",
    "    \n",
    "    # Warm-up the integrator\n",
    "    integ(vegas_integrand, nitn=30, neval=1000)\n",
    "    \n",
    "    # Compute the integral\n",
    "    result = integ(vegas_integrand, nitn=10, neval=10000)\n",
    "    \n",
    "    # Multiply by the normalization constant\n",
    "    return A * result.mean, A * result.sdev\n"
   ]
  },
  {
   "cell_type": "code",
   "execution_count": 1218,
   "metadata": {},
   "outputs": [
    {
     "data": {
      "text/plain": [
       "(0.07744966662047988, 0.00044431903885661886)"
      ]
     },
     "execution_count": 1218,
     "metadata": {},
     "output_type": "execute_result"
    }
   ],
   "source": [
    "calcPathIntegral(QHOPotential, 0)"
   ]
  },
  {
   "cell_type": "code",
   "execution_count": 1219,
   "metadata": {},
   "outputs": [],
   "source": [
    "# calc the propagator for grid of x values\n",
    "x_bins = np.arange(0, 2, 0.1)\n",
    "EHO_propagator = [calcPathIntegral(QHOPotential, x) for x in x_bins]\n",
    "EHO_propagator = np.array([[x[0] for x in EHO_propagator], [x[1] for x in EHO_propagator]])"
   ]
  },
  {
   "cell_type": "code",
   "execution_count": 1220,
   "metadata": {},
   "outputs": [],
   "source": [
    "# define the exact propagator\n",
    "def exactEHOPropagator(x):\n",
    "    E_0 = 1/2\n",
    "    bra_x_ket_E_0 = np.exp(-x**2/2) / np.pi**(1/4)\n",
    "    return bra_x_ket_E_0**2 * np.exp(-E_0 * T)"
   ]
  },
  {
   "cell_type": "code",
   "execution_count": 1221,
   "metadata": {},
   "outputs": [],
   "source": [
    "exact_EHO_propagator = exactEHOPropagator(x_grid)"
   ]
  },
  {
   "cell_type": "code",
   "execution_count": 1222,
   "metadata": {},
   "outputs": [
    {
     "data": {
      "image/png": "[encoded data removed]",
      "text/plain": [
       "<Figure size 468x289.24 with 1 Axes>"
      ]
     },
     "metadata": {
      "needs_background": "light"
     },
     "output_type": "display_data"
    }
   ],
   "source": [
    "# plot the results\n",
    "fig, ax = plt.subplots(figsize=plots.set_size('default', fraction=1))\n",
    "\n",
    "ax.plot(x_grid, exact_EHO_propagator, label='Exact')\n",
    "ax.errorbar(x_grid, EHO_propagator[0], fmt = 'o', ms = 3, yerr=EHO_propagator[1], label='Numerical')\n",
    "ax.legend()\n",
    "\n",
    "ax.set_ylabel(r'$\\langle{x}|{\\textrm{e}^{-\\hat{H} T}}|{x}\\rangle$', rotation=0, labelpad=30)\n",
    "ax.set_xlabel(r'$x$')\n",
    "plt.savefig('QHOPathIntegral.pdf', bbox_inches='tight')"
   ]
  },
  {
   "cell_type": "code",
   "execution_count": null,
   "metadata": {},
   "outputs": [],
   "source": []
  }
 ],
 "metadata": {
  "kernelspec": {
   "display_name": "Python 3",
   "language": "python",
   "name": "python3"
  },
  "language_info": {
   "codemirror_mode": {
    "name": "ipython",
    "version": 3
   },
   "file_extension": ".py",
   "mimetype": "text/x-python",
   "name": "python",
   "nbconvert_exporter": "python",
   "pygments_lexer": "ipython3",
   "version": "3.10.12"
  }
 },
 "nbformat": 4,
 "nbformat_minor": 2
}
