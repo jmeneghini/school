{
 "cells": [
  {
   "cell_type": "code",
   "execution_count": 1,
   "metadata": {},
   "outputs": [],
   "source": [
    "import sympy as sp\n",
    "import numpy as np\n",
    "import matplotlib.pyplot as plt\n",
    "from sympy.physics.vector import outer"
   ]
  },
  {
   "cell_type": "code",
   "execution_count": 2,
   "metadata": {},
   "outputs": [],
   "source": [
    "# declare var\n",
    "a = sp.Symbol('a', real=True)"
   ]
  },
  {
   "cell_type": "code",
   "execution_count": 3,
   "metadata": {},
   "outputs": [
    {
     "data": {
      "text/latex": [
       "$\\displaystyle \\left[\\begin{matrix}0 & 0 & -1 + i\\\\0 & 3 & 0\\\\-1 - i & 0 & 0\\end{matrix}\\right]$"
      ],
      "text/plain": [
       "Matrix([\n",
       "[     0, 0, -1 + I],\n",
       "[     0, 3,      0],\n",
       "[-1 - I, 0,      0]])"
      ]
     },
     "execution_count": 3,
     "metadata": {},
     "output_type": "execute_result"
    }
   ],
   "source": [
    "# setup up matrix\n",
    "A = sp.Matrix([[0, 0, -1 + sp.I], [0, 3, 0], [-1 - sp.I, 0, 0]])\n",
    "A"
   ]
  },
  {
   "cell_type": "code",
   "execution_count": 15,
   "metadata": {},
   "outputs": [
    {
     "ename": "AttributeError",
     "evalue": "'list' object has no attribute 'norm'",
     "output_type": "error",
     "traceback": [
      "\u001b[0;31m---------------------------------------------------------------------------\u001b[0m",
      "\u001b[0;31mAttributeError\u001b[0m                            Traceback (most recent call last)",
      "\u001b[1;32m/Users/johnmeneghini/Documents/school/Quantum/HW6.ipynb Cell 4\u001b[0m line \u001b[0;36m3\n\u001b[1;32m      <a href='vscode-notebook-cell:/Users/johnmeneghini/Documents/school/Quantum/HW6.ipynb#W3sZmlsZQ%3D%3D?line=0'>1</a>\u001b[0m eigenvalues \u001b[39m=\u001b[39m A\u001b[39m.\u001b[39meigenvals()\n\u001b[1;32m      <a href='vscode-notebook-cell:/Users/johnmeneghini/Documents/school/Quantum/HW6.ipynb#W3sZmlsZQ%3D%3D?line=1'>2</a>\u001b[0m eigenvects \u001b[39m=\u001b[39m A\u001b[39m.\u001b[39meigenvects()\n\u001b[0;32m----> <a href='vscode-notebook-cell:/Users/johnmeneghini/Documents/school/Quantum/HW6.ipynb#W3sZmlsZQ%3D%3D?line=2'>3</a>\u001b[0m eigenvects\u001b[39m.\u001b[39;49mnorm()\n",
      "\u001b[0;31mAttributeError\u001b[0m: 'list' object has no attribute 'norm'"
     ]
    }
   ],
   "source": [
    "eigenvalues = A.eigenvals()\n",
    "eigenvects = A.eigenvects()\n",
    "eigenvects."
   ]
  },
  {
   "cell_type": "code",
   "execution_count": 5,
   "metadata": {},
   "outputs": [
    {
     "data": {
      "text/latex": [
       "$\\displaystyle 0$"
      ],
      "text/plain": [
       "0"
      ]
     },
     "execution_count": 5,
     "metadata": {},
     "output_type": "execute_result"
    }
   ],
   "source": [
    "# check if eigenvectors are orthogonal\n",
    "eigenvects[0][2][0].dot(eigenvects[1][2][0])\n"
   ]
  },
  {
   "cell_type": "code",
   "execution_count": 6,
   "metadata": {},
   "outputs": [
    {
     "data": {
      "text/latex": [
       "$\\displaystyle 0$"
      ],
      "text/plain": [
       "0"
      ]
     },
     "execution_count": 6,
     "metadata": {},
     "output_type": "execute_result"
    }
   ],
   "source": [
    "eigenvects[0][2][0].dot(eigenvects[2][2][0])"
   ]
  },
  {
   "cell_type": "code",
   "execution_count": 7,
   "metadata": {},
   "outputs": [
    {
     "data": {
      "text/latex": [
       "$\\displaystyle 0$"
      ],
      "text/plain": [
       "0"
      ]
     },
     "execution_count": 7,
     "metadata": {},
     "output_type": "execute_result"
    }
   ],
   "source": [
    "eigenvects[1][2][0].adjoint().dot(eigenvects[2][2][0]).simplify()"
   ]
  },
  {
   "cell_type": "code",
   "execution_count": 8,
   "metadata": {},
   "outputs": [],
   "source": [
    "# check if eigenvectors are complete\n",
    "res = sp.zeros(3,3)\n",
    "for i in range(3):\n",
    "    # normalize vectors\n",
    "    eigenvects[i][2][0] = eigenvects[i][2][0]/sp.sqrt(eigenvects[i][2][0].adjoint().dot(eigenvects[i][2][0]))\n",
    "    res += eigenvects[i][2][0]*(eigenvects[i][2][0].adjoint())\n",
    "    "
   ]
  },
  {
   "cell_type": "code",
   "execution_count": 9,
   "metadata": {},
   "outputs": [
    {
     "data": {
      "text/latex": [
       "$\\displaystyle \\left[\\begin{matrix}1 & 0 & 0\\\\0 & 1 & 0\\\\0 & 0 & 1\\end{matrix}\\right]$"
      ],
      "text/plain": [
       "Matrix([\n",
       "[1, 0, 0],\n",
       "[0, 1, 0],\n",
       "[0, 0, 1]])"
      ]
     },
     "execution_count": 9,
     "metadata": {},
     "output_type": "execute_result"
    }
   ],
   "source": [
    "res.simplify()\n",
    "res"
   ]
  },
  {
   "cell_type": "code",
   "execution_count": 10,
   "metadata": {},
   "outputs": [
    {
     "data": {
      "text/latex": [
       "$\\displaystyle \\frac{e^{2}}{5}$"
      ],
      "text/plain": [
       "exp(2)/5"
      ]
     },
     "execution_count": 10,
     "metadata": {},
     "output_type": "execute_result"
    }
   ],
   "source": [
    "# integrate exp(7x + 2) DiracDelta(5x) from -2 to 2\n",
    "x = sp.Symbol('x')\n",
    "sp.integrate(sp.exp(7*x + 2)*sp.DiracDelta(5*x), (x, -2, 2))"
   ]
  },
  {
   "cell_type": "code",
   "execution_count": 11,
   "metadata": {},
   "outputs": [
    {
     "data": {
      "text/latex": [
       "$\\displaystyle 2$"
      ],
      "text/plain": [
       "2"
      ]
     },
     "execution_count": 11,
     "metadata": {},
     "output_type": "execute_result"
    }
   ],
   "source": [
    "sp.integrate(sp.cos(x)**2 * sp.DiracDelta((x - sp.pi)/2), (x, 0, 2*sp.pi))"
   ]
  },
  {
   "cell_type": "code",
   "execution_count": 12,
   "metadata": {},
   "outputs": [
    {
     "data": {
      "text/latex": [
       "$\\displaystyle \\left[\\begin{matrix}E & - i E\\\\i E & - E\\end{matrix}\\right]$"
      ],
      "text/plain": [
       "Matrix([\n",
       "[  E, -I*E],\n",
       "[I*E,   -E]])"
      ]
     },
     "execution_count": 12,
     "metadata": {},
     "output_type": "execute_result"
    }
   ],
   "source": [
    "# declare variable E\n",
    "E = sp.Symbol('E', real=True)\n",
    "H = E * sp.Matrix([[1, -sp.I], [sp.I, -1]])\n",
    "H"
   ]
  },
  {
   "cell_type": "code",
   "execution_count": 13,
   "metadata": {},
   "outputs": [
    {
     "data": {
      "text/plain": [
       "[(-sqrt(2)*E,\n",
       "  1,\n",
       "  [Matrix([\n",
       "   [-I + sqrt(2)*I],\n",
       "   [             1]])]),\n",
       " (sqrt(2)*E,\n",
       "  1,\n",
       "  [Matrix([\n",
       "   [-sqrt(2)*I - I],\n",
       "   [             1]])])]"
      ]
     },
     "execution_count": 13,
     "metadata": {},
     "output_type": "execute_result"
    }
   ],
   "source": [
    "# find eigenvalues and eigenvectors\n",
    "eigenvalues = H.eigenvals()\n",
    "eigenvects = H.eigenvects()\n",
    "eigenvects"
   ]
  },
  {
   "cell_type": "code",
   "execution_count": 14,
   "metadata": {},
   "outputs": [
    {
     "data": {
      "text/plain": [
       "[(-sqrt((cos(x) - 1)*(cos(x) + 1)) + cos(x),\n",
       "  1,\n",
       "  [Matrix([\n",
       "   [-sin(x)/sqrt(cos(x)**2 - 1)],\n",
       "   [                          1]])]),\n",
       " (sqrt((cos(x) - 1)*(cos(x) + 1)) + cos(x),\n",
       "  1,\n",
       "  [Matrix([\n",
       "   [sin(x)/sqrt(cos(x)**2 - 1)],\n",
       "   [                         1]])])]"
      ]
     },
     "execution_count": 14,
     "metadata": {},
     "output_type": "execute_result"
    }
   ],
   "source": [
    "A = sp.Matrix([[sp.cos(x), sp.sin(x)], [-sp.sin(x), sp.cos(x)]])\n",
    "A.eigenvects()"
   ]
  },
  {
   "cell_type": "code",
   "execution_count": null,
   "metadata": {},
   "outputs": [],
   "source": []
  }
 ],
 "metadata": {
  "kernelspec": {
   "display_name": "Python 3",
   "language": "python",
   "name": "python3"
  },
  "language_info": {
   "codemirror_mode": {
    "name": "ipython",
    "version": 3
   },
   "file_extension": ".py",
   "mimetype": "text/x-python",
   "name": "python",
   "nbconvert_exporter": "python",
   "pygments_lexer": "ipython3",
   "version": "3.10.13"
  }
 },
 "nbformat": 4,
 "nbformat_minor": 2
}
