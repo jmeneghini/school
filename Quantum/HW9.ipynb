{
 "cells": [
  {
   "cell_type": "code",
   "execution_count": 124,
   "metadata": {},
   "outputs": [],
   "source": [
    "import sympy as sp\n",
    "import numpy as np\n",
    "import matplotlib.pyplot as plt\n",
    "from sympy.physics.vector import outer"
   ]
  },
  {
   "cell_type": "code",
   "execution_count": 125,
   "metadata": {},
   "outputs": [],
   "source": [
    "theta, phi, hbar = sp.symbols('theta phi hbar', real=True)"
   ]
  },
  {
   "cell_type": "code",
   "execution_count": 126,
   "metadata": {},
   "outputs": [],
   "source": [
    "#2\n",
    "# a)\n",
    "psi = sp.Matrix([3*sp.I, 4])\n",
    "A = 1/psi.norm()\n",
    "A\n",
    "psi = A*psi"
   ]
  },
  {
   "cell_type": "code",
   "execution_count": 127,
   "metadata": {},
   "outputs": [],
   "source": [
    "# b)\n",
    "S_x = hbar/2*sp.Matrix([[0, 1], [1, 0]])\n",
    "S_y = hbar/2*sp.Matrix([[0, -sp.I], [sp.I, 0]])\n",
    "S_z = hbar/2*sp.Matrix([[1, 0], [0, -1]])"
   ]
  },
  {
   "cell_type": "code",
   "execution_count": 128,
   "metadata": {},
   "outputs": [
    {
     "data": {
      "text/latex": [
       "$\\displaystyle \\left[\\begin{matrix}0\\end{matrix}\\right]$"
      ],
      "text/plain": [
       "Matrix([[0]])"
      ]
     },
     "execution_count": 128,
     "metadata": {},
     "output_type": "execute_result"
    }
   ],
   "source": [
    "S_x_exp = psi.adjoint()*(S_x*psi)\n",
    "S_x_exp"
   ]
  },
  {
   "cell_type": "code",
   "execution_count": 129,
   "metadata": {},
   "outputs": [
    {
     "data": {
      "text/latex": [
       "$\\displaystyle \\left[\\begin{matrix}- \\frac{12 \\hbar}{25}\\end{matrix}\\right]$"
      ],
      "text/plain": [
       "Matrix([[-12*hbar/25]])"
      ]
     },
     "execution_count": 129,
     "metadata": {},
     "output_type": "execute_result"
    }
   ],
   "source": [
    "S_y_exp = psi.adjoint()*(S_y*psi)\n",
    "S_y_exp"
   ]
  },
  {
   "cell_type": "code",
   "execution_count": 130,
   "metadata": {},
   "outputs": [
    {
     "data": {
      "text/latex": [
       "$\\displaystyle \\left[\\begin{matrix}- \\frac{7 \\hbar}{50}\\end{matrix}\\right]$"
      ],
      "text/plain": [
       "Matrix([[-7*hbar/50]])"
      ]
     },
     "execution_count": 130,
     "metadata": {},
     "output_type": "execute_result"
    }
   ],
   "source": [
    "S_z_exp = psi.adjoint()*(S_z*psi)\n",
    "S_z_exp"
   ]
  },
  {
   "cell_type": "code",
   "execution_count": 131,
   "metadata": {},
   "outputs": [
    {
     "data": {
      "text/latex": [
       "$\\displaystyle \\left[\\begin{matrix}\\frac{\\hbar^{2}}{4}\\end{matrix}\\right]$"
      ],
      "text/plain": [
       "Matrix([[hbar**2/4]])"
      ]
     },
     "execution_count": 131,
     "metadata": {},
     "output_type": "execute_result"
    }
   ],
   "source": [
    "# c)\n",
    "S_x2_exp = psi.adjoint()*(S_x**2*psi)\n",
    "S_x2_exp"
   ]
  },
  {
   "cell_type": "code",
   "execution_count": 132,
   "metadata": {},
   "outputs": [
    {
     "data": {
      "text/latex": [
       "$\\displaystyle \\left[\\begin{matrix}\\frac{\\hbar^{2}}{4}\\end{matrix}\\right]$"
      ],
      "text/plain": [
       "Matrix([[hbar**2/4]])"
      ]
     },
     "execution_count": 132,
     "metadata": {},
     "output_type": "execute_result"
    }
   ],
   "source": [
    "S_y2_exp = psi.adjoint()*(S_y**2*psi)\n",
    "S_y2_exp"
   ]
  },
  {
   "cell_type": "code",
   "execution_count": 133,
   "metadata": {},
   "outputs": [
    {
     "data": {
      "text/latex": [
       "$\\displaystyle \\left[\\begin{matrix}\\frac{\\hbar^{2}}{4}\\end{matrix}\\right]$"
      ],
      "text/plain": [
       "Matrix([[hbar**2/4]])"
      ]
     },
     "execution_count": 133,
     "metadata": {},
     "output_type": "execute_result"
    }
   ],
   "source": [
    "S_z2_exp = psi.adjoint()*(S_z**2*psi)\n",
    "S_z2_exp"
   ]
  },
  {
   "cell_type": "code",
   "execution_count": 134,
   "metadata": {},
   "outputs": [
    {
     "data": {
      "text/latex": [
       "$\\displaystyle \\frac{\\left|{\\hbar}\\right|}{2}$"
      ],
      "text/plain": [
       "Abs(hbar)/2"
      ]
     },
     "execution_count": 134,
     "metadata": {},
     "output_type": "execute_result"
    }
   ],
   "source": [
    "delta_S_x = sp.sqrt(S_x2_exp[0] - S_x_exp[0]**2)\n",
    "delta_S_x"
   ]
  },
  {
   "cell_type": "code",
   "execution_count": 135,
   "metadata": {},
   "outputs": [
    {
     "data": {
      "text/latex": [
       "$\\displaystyle \\frac{7 \\left|{\\hbar}\\right|}{50}$"
      ],
      "text/plain": [
       "7*Abs(hbar)/50"
      ]
     },
     "execution_count": 135,
     "metadata": {},
     "output_type": "execute_result"
    }
   ],
   "source": [
    "delta_S_y = sp.sqrt(S_y2_exp[0] - S_y_exp[0]**2)\n",
    "delta_S_y"
   ]
  },
  {
   "cell_type": "code",
   "execution_count": 136,
   "metadata": {},
   "outputs": [
    {
     "data": {
      "text/latex": [
       "$\\displaystyle \\frac{42}{625}$"
      ],
      "text/plain": [
       "42/625"
      ]
     },
     "execution_count": 136,
     "metadata": {},
     "output_type": "execute_result"
    }
   ],
   "source": [
    "delta_S_z = sp.sqrt(S_z2_exp[0] - S_z_exp[0]**2)\n",
    "delta_S_z\n",
    "sp.Rational(7*12,50*25).simplify()"
   ]
  },
  {
   "cell_type": "code",
   "execution_count": 137,
   "metadata": {},
   "outputs": [],
   "source": [
    "# Zettili 5.23\n",
    "\n",
    "J_z = hbar*sp.Matrix([[1, 0, 0], [0, 0, 0], [0, 0, -1]])\n",
    "j_z_n = sp.Matrix([0, 0, 1])\n",
    "\n",
    "J_x = hbar/sp.sqrt(2)*sp.Matrix([[0, 1, 0], [1, 0, 1], [0, 1, 0]])\n",
    "J_y = hbar/sp.sqrt(2)*sp.Matrix([[0, -sp.I, 0], [sp.I, 0, -sp.I], [0, sp.I, 0]])"
   ]
  },
  {
   "cell_type": "code",
   "execution_count": 138,
   "metadata": {},
   "outputs": [
    {
     "data": {
      "text/plain": [
       "{hbar: 1, 0: 1, -hbar: 1}"
      ]
     },
     "execution_count": 138,
     "metadata": {},
     "output_type": "execute_result"
    }
   ],
   "source": [
    "# a)\n",
    "eigenvals = J_z.eigenvals()\n",
    "eigenvals"
   ]
  },
  {
   "cell_type": "code",
   "execution_count": 139,
   "metadata": {},
   "outputs": [
    {
     "data": {
      "text/latex": [
       "$\\displaystyle \\left[\\begin{matrix}0\\end{matrix}\\right]$"
      ],
      "text/plain": [
       "Matrix([[0]])"
      ]
     },
     "execution_count": 139,
     "metadata": {},
     "output_type": "execute_result"
    }
   ],
   "source": [
    "# b)\n",
    "J_x_exp = j_z_n.adjoint()*(J_x*j_z_n)\n",
    "J_x_exp"
   ]
  },
  {
   "cell_type": "code",
   "execution_count": 140,
   "metadata": {},
   "outputs": [
    {
     "data": {
      "text/latex": [
       "$\\displaystyle \\left[\\begin{matrix}\\frac{\\hbar^{2}}{2}\\end{matrix}\\right]$"
      ],
      "text/plain": [
       "Matrix([[hbar**2/2]])"
      ]
     },
     "execution_count": 140,
     "metadata": {},
     "output_type": "execute_result"
    }
   ],
   "source": [
    "J_x2_exp = j_z_n.adjoint()*(J_x**2*j_z_n)\n",
    "J_x2_exp"
   ]
  },
  {
   "cell_type": "code",
   "execution_count": 141,
   "metadata": {},
   "outputs": [
    {
     "data": {
      "text/latex": [
       "$\\displaystyle \\left[\\begin{matrix}0\\end{matrix}\\right]$"
      ],
      "text/plain": [
       "Matrix([[0]])"
      ]
     },
     "execution_count": 141,
     "metadata": {},
     "output_type": "execute_result"
    }
   ],
   "source": [
    "# c)\n",
    "J_y_exp = j_z_n.adjoint()*(J_y*j_z_n)\n",
    "J_y_exp"
   ]
  },
  {
   "cell_type": "code",
   "execution_count": 142,
   "metadata": {},
   "outputs": [
    {
     "data": {
      "text/latex": [
       "$\\displaystyle \\left[\\begin{matrix}\\frac{\\hbar^{2}}{2}\\end{matrix}\\right]$"
      ],
      "text/plain": [
       "Matrix([[hbar**2/2]])"
      ]
     },
     "execution_count": 142,
     "metadata": {},
     "output_type": "execute_result"
    }
   ],
   "source": [
    "J_y2_exp = j_z_n.adjoint()*(J_y**2*j_z_n)\n",
    "J_y2_exp"
   ]
  },
  {
   "cell_type": "code",
   "execution_count": 143,
   "metadata": {},
   "outputs": [
    {
     "data": {
      "text/latex": [
       "$\\displaystyle \\left[\\begin{matrix}0 & - \\frac{i \\hbar}{2}\\\\\\frac{i \\hbar}{2} & 0\\end{matrix}\\right]$"
      ],
      "text/plain": [
       "Matrix([\n",
       "[       0, -I*hbar/2],\n",
       "[I*hbar/2,         0]])"
      ]
     },
     "execution_count": 143,
     "metadata": {},
     "output_type": "execute_result"
    }
   ],
   "source": [
    "# Zettili 5.33\n",
    "n = sp.Matrix([sp.sin(theta)*sp.cos(phi), sp.sin(theta)*sp.sin(phi), 0])\n",
    "S_n = n[0]*S_x + n[1]*S_y + n[2]*S_z\n",
    "S_y"
   ]
  },
  {
   "cell_type": "code",
   "execution_count": 144,
   "metadata": {},
   "outputs": [
    {
     "data": {
      "text/latex": [
       "$\\displaystyle \\left[\\begin{matrix}0 & \\frac{\\hbar e^{- i \\phi} \\sin{\\left(\\theta \\right)}}{2}\\\\\\frac{\\hbar e^{i \\phi} \\sin{\\left(\\theta \\right)}}{2} & 0\\end{matrix}\\right]$"
      ],
      "text/plain": [
       "Matrix([\n",
       "[                           0, hbar*exp(-I*phi)*sin(theta)/2],\n",
       "[hbar*exp(I*phi)*sin(theta)/2,                             0]])"
      ]
     },
     "execution_count": 144,
     "metadata": {},
     "output_type": "execute_result"
    }
   ],
   "source": [
    "S_n = sp.simplify(S_n)\n",
    "S_n"
   ]
  },
  {
   "cell_type": "code",
   "execution_count": 145,
   "metadata": {},
   "outputs": [
    {
     "data": {
      "text/plain": [
       "{-hbar*sin(theta)/2: 1, hbar*sin(theta)/2: 1}"
      ]
     },
     "execution_count": 145,
     "metadata": {},
     "output_type": "execute_result"
    }
   ],
   "source": [
    "# Eigenvalues and eigenvectors\n",
    "eigvals = S_n.eigenvals()\n",
    "eigvals"
   ]
  },
  {
   "cell_type": "code",
   "execution_count": 146,
   "metadata": {},
   "outputs": [
    {
     "data": {
      "text/latex": [
       "$\\displaystyle \\sqrt{2}$"
      ],
      "text/plain": [
       "sqrt(2)"
      ]
     },
     "execution_count": 146,
     "metadata": {},
     "output_type": "execute_result"
    }
   ],
   "source": [
    "eigvects = S_n.eigenvects()\n",
    "eigvects[0][2][0].norm()"
   ]
  },
  {
   "cell_type": "code",
   "execution_count": 147,
   "metadata": {},
   "outputs": [],
   "source": [
    "# last part\n",
    "psi_z_p = sp.Matrix([1, 0])\n",
    "psi_x_p = 1/sp.sqrt(2)*sp.Matrix([1, 1])"
   ]
  },
  {
   "cell_type": "code",
   "execution_count": 148,
   "metadata": {},
   "outputs": [
    {
     "data": {
      "text/latex": [
       "$\\displaystyle \\frac{1}{2}$"
      ],
      "text/plain": [
       "1/2"
      ]
     },
     "execution_count": 148,
     "metadata": {},
     "output_type": "execute_result"
    }
   ],
   "source": [
    "# a)\n",
    "P_s_x_p = sp.Abs(psi_x_p.adjoint()*psi_z_p)[0]**2\n",
    "P_s_x_p"
   ]
  },
  {
   "cell_type": "code",
   "execution_count": 149,
   "metadata": {},
   "outputs": [
    {
     "data": {
      "text/latex": [
       "$\\displaystyle \\left[\\begin{matrix}\\frac{1}{2}\\\\\\frac{1}{2}\\end{matrix}\\right]$"
      ],
      "text/plain": [
       "Matrix([\n",
       "[1/2],\n",
       "[1/2]])"
      ]
     },
     "execution_count": 149,
     "metadata": {},
     "output_type": "execute_result"
    }
   ],
   "source": [
    "theta = (psi_x_p.adjoint()*psi_z_p)[0] * psi_x_p\n",
    "theta"
   ]
  },
  {
   "cell_type": "code",
   "execution_count": 151,
   "metadata": {},
   "outputs": [
    {
     "data": {
      "text/latex": [
       "$\\displaystyle \\frac{1}{2}$"
      ],
      "text/plain": [
       "1/2"
      ]
     },
     "execution_count": 151,
     "metadata": {},
     "output_type": "execute_result"
    }
   ],
   "source": [
    "P_s_z_p = sp.Abs(psi_z_p.adjoint()*theta)[0]**2/(theta.adjoint()*theta)[0]\n",
    "P_s_z_p"
   ]
  },
  {
   "cell_type": "code",
   "execution_count": null,
   "metadata": {},
   "outputs": [],
   "source": []
  }
 ],
 "metadata": {
  "kernelspec": {
   "display_name": "Python 3",
   "language": "python",
   "name": "python3"
  },
  "language_info": {
   "codemirror_mode": {
    "name": "ipython",
    "version": 3
   },
   "file_extension": ".py",
   "mimetype": "text/x-python",
   "name": "python",
   "nbconvert_exporter": "python",
   "pygments_lexer": "ipython3",
   "version": "3.10.13"
  }
 },
 "nbformat": 4,
 "nbformat_minor": 2
}
