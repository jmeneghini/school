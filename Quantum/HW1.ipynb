{
 "cells": [
  {
   "cell_type": "code",
   "execution_count": 60,
   "metadata": {},
   "outputs": [],
   "source": [
    "import numpy as np\n",
    "import pint\n",
    "from scipy.constants import h, c, proton_mass, electron_mass"
   ]
  },
  {
   "cell_type": "code",
   "execution_count": 61,
   "metadata": {},
   "outputs": [],
   "source": [
    "ureg = pint.UnitRegistry()"
   ]
  },
  {
   "cell_type": "code",
   "execution_count": 62,
   "metadata": {},
   "outputs": [
    {
     "data": {
      "text/html": [
       "4.135667696923859×10<sup>-15</sup> electron_volt second"
      ],
      "text/latex": [
       "$4.135667696923859\\times 10^{-15}\\ \\mathrm{electron\\_volt} \\cdot \\mathrm{second}$"
      ],
      "text/plain": [
       "4.135667696923859e-15 <Unit('electron_volt * second')>"
      ]
     },
     "execution_count": 62,
     "metadata": {},
     "output_type": "execute_result"
    }
   ],
   "source": [
    "h = h * ureg.joule * ureg.second\n",
    "h = h.to(ureg.eV * ureg.second)\n",
    "h"
   ]
  },
  {
   "cell_type": "code",
   "execution_count": 63,
   "metadata": {},
   "outputs": [
    {
     "data": {
      "text/html": [
       "938272088.1604904 electron_volt/speed_of_light<sup>2</sup>"
      ],
      "text/latex": [
       "$938272088.1604904\\ \\frac{\\mathrm{electron\\_volt}}{\\mathrm{speed\\_of\\_light}^{2}}$"
      ],
      "text/plain": [
       "938272088.1604904 <Unit('electron_volt / speed_of_light ** 2')>"
      ]
     },
     "execution_count": 63,
     "metadata": {},
     "output_type": "execute_result"
    }
   ],
   "source": [
    "m_p = proton_mass * ureg.kilogram\n",
    "m_p = m_p.to(ureg.eV / ureg.speed_of_light**2)\n",
    "m_p"
   ]
  },
  {
   "cell_type": "code",
   "execution_count": 64,
   "metadata": {},
   "outputs": [
    {
     "data": {
      "text/html": [
       "510998.9499961642 electron_volt/speed_of_light<sup>2</sup>"
      ],
      "text/latex": [
       "$510998.9499961642\\ \\frac{\\mathrm{electron\\_volt}}{\\mathrm{speed\\_of\\_light}^{2}}$"
      ],
      "text/plain": [
       "510998.9499961642 <Unit('electron_volt / speed_of_light ** 2')>"
      ]
     },
     "execution_count": 64,
     "metadata": {},
     "output_type": "execute_result"
    }
   ],
   "source": [
    "m_e = electron_mass * ureg.kilogram\n",
    "m_e = m_e.to(ureg.eV / ureg.speed_of_light**2)\n",
    "m_e"
   ]
  },
  {
   "cell_type": "code",
   "execution_count": 65,
   "metadata": {},
   "outputs": [
    {
     "data": {
      "text/html": [
       "299792458.0 meter/second"
      ],
      "text/latex": [
       "$299792458.0\\ \\frac{\\mathrm{meter}}{\\mathrm{second}}$"
      ],
      "text/plain": [
       "299792458.0 <Unit('meter / second')>"
      ]
     },
     "execution_count": 65,
     "metadata": {},
     "output_type": "execute_result"
    }
   ],
   "source": [
    "c = c * ureg.meter / ureg.second\n",
    "c"
   ]
  },
  {
   "cell_type": "markdown",
   "metadata": {},
   "source": [
    "# Question 1.14"
   ]
  },
  {
   "cell_type": "code",
   "execution_count": 66,
   "metadata": {},
   "outputs": [
    {
     "data": {
      "text/html": [
       "2.6428197107786695×10<sup>-5</sup> angstrom"
      ],
      "text/latex": [
       "$2.6428197107786695\\times 10^{-5}\\ \\mathrm{angstrom}$"
      ],
      "text/plain": [
       "2.6428197107786695e-05 <Unit('angstrom')>"
      ]
     },
     "execution_count": 66,
     "metadata": {},
     "output_type": "execute_result"
    }
   ],
   "source": [
    "max_wavelength_shift = 2*h/(m_p*c)\n",
    "max_wavelength_shift.to(ureg.angstrom)"
   ]
  },
  {
   "cell_type": "markdown",
   "metadata": {},
   "source": [
    "# Question 1.29"
   ]
  },
  {
   "cell_type": "code",
   "execution_count": 67,
   "metadata": {},
   "outputs": [],
   "source": [
    "bohr_energy = lambda z, n: z**2/n**2 * (-13.6 * ureg.eV)"
   ]
  },
  {
   "cell_type": "code",
   "execution_count": 68,
   "metadata": {},
   "outputs": [
    {
     "data": {
      "text/html": [
       "-122.39999999999999 electron_volt"
      ],
      "text/latex": [
       "$-122.39999999999999\\ \\mathrm{electron\\_volt}$"
      ],
      "text/plain": [
       "-122.39999999999999 <Unit('electron_volt')>"
      ]
     },
     "execution_count": 68,
     "metadata": {},
     "output_type": "execute_result"
    }
   ],
   "source": [
    "# Li 2+\n",
    "E_0 = bohr_energy(3, 1)\n",
    "E_0.to(ureg.eV)"
   ]
  },
  {
   "cell_type": "code",
   "execution_count": 69,
   "metadata": {},
   "outputs": [
    {
     "data": {
      "text/html": [
       "114.74999999999999 electron_volt"
      ],
      "text/latex": [
       "$114.74999999999999\\ \\mathrm{electron\\_volt}$"
      ],
      "text/plain": [
       "114.74999999999999 <Unit('electron_volt')>"
      ]
     },
     "execution_count": 69,
     "metadata": {},
     "output_type": "execute_result"
    }
   ],
   "source": [
    "E_ph = bohr_energy(3, 4) - bohr_energy(3, 1)\n",
    "E_ph.to(ureg.eV)"
   ]
  },
  {
   "cell_type": "code",
   "execution_count": 70,
   "metadata": {},
   "outputs": [],
   "source": [
    "lambda_from_E = lambda E: h*c/E"
   ]
  },
  {
   "cell_type": "code",
   "execution_count": 71,
   "metadata": {},
   "outputs": [
    {
     "data": {
      "text/html": [
       "10.80472317500656 nanometer"
      ],
      "text/latex": [
       "$10.80472317500656\\ \\mathrm{nanometer}$"
      ],
      "text/plain": [
       "10.80472317500656 <Unit('nanometer')>"
      ]
     },
     "execution_count": 71,
     "metadata": {},
     "output_type": "execute_result"
    }
   ],
   "source": [
    "lambda_ph = lambda_from_E(E_ph)\n",
    "lambda_ph.to(ureg.nm)"
   ]
  },
  {
   "cell_type": "markdown",
   "metadata": {},
   "source": [
    "# Question 1.33"
   ]
  },
  {
   "cell_type": "code",
   "execution_count": 72,
   "metadata": {},
   "outputs": [],
   "source": [
    "broglie_wavelength = lambda p: h/p"
   ]
  },
  {
   "cell_type": "code",
   "execution_count": 73,
   "metadata": {},
   "outputs": [
    {
     "data": {
      "text/html": [
       "1.6689543468818533 angstrom"
      ],
      "text/latex": [
       "$1.6689543468818533\\ \\mathrm{angstrom}$"
      ],
      "text/plain": [
       "1.6689543468818533 <Unit('angstrom')>"
      ]
     },
     "execution_count": 73,
     "metadata": {},
     "output_type": "execute_result"
    }
   ],
   "source": [
    "# a)\n",
    "p_e = np.sqrt(2*m_e*54*ureg.eV)\n",
    "lambda_e = broglie_wavelength(p_e)\n",
    "lambda_e.to(ureg.angstrom)\n"
   ]
  },
  {
   "cell_type": "code",
   "execution_count": 101,
   "metadata": {},
   "outputs": [
    {
     "data": {
      "text/html": [
       "3.155360582058241×10<sup>-5</sup> angstrom"
      ],
      "text/latex": [
       "$3.155360582058241\\times 10^{-5}\\ \\mathrm{angstrom}$"
      ],
      "text/plain": [
       "3.155360582058241e-05 <Unit('angstrom')>"
      ]
     },
     "execution_count": 101,
     "metadata": {},
     "output_type": "execute_result"
    }
   ],
   "source": [
    "# b)\n",
    "E = 70 * ureg.MeV\n",
    "p_p = 1/np.sqrt(1-2*E/(m_p*c**2)) * np.sqrt(2*m_p*E)\n",
    "lambda_p = broglie_wavelength(p_p)\n",
    "lambda_p.to(ureg.angstrom)"
   ]
  },
  {
   "cell_type": "code",
   "execution_count": 91,
   "metadata": {},
   "outputs": [
    {
     "data": {
      "text/plain": [
       "1.3265134449691803e-15"
      ]
     },
     "execution_count": 91,
     "metadata": {},
     "output_type": "execute_result"
    }
   ],
   "source": [
    "# c)\n",
    "4.136e-15 * 3e8/(abs(70e6**2 - 938e6**2))**(1/2)"
   ]
  },
  {
   "cell_type": "code",
   "execution_count": 76,
   "metadata": {},
   "outputs": [
    {
     "data": {
      "text/plain": [
       "5.521666666666666e-36"
      ]
     },
     "execution_count": 76,
     "metadata": {},
     "output_type": "execute_result"
    }
   ],
   "source": [
    "6.626E-34/(0.1* 1200)"
   ]
  },
  {
   "cell_type": "code",
   "execution_count": 77,
   "metadata": {},
   "outputs": [
    {
     "data": {
      "text/html": [
       "0.1 kilogram"
      ],
      "text/latex": [
       "$0.1\\ \\mathrm{kilogram}$"
      ],
      "text/plain": [
       "0.1 <Unit('kilogram')>"
      ]
     },
     "execution_count": 77,
     "metadata": {},
     "output_type": "execute_result"
    }
   ],
   "source": [
    "m = 100 * ureg.g\n",
    "m.to(ureg.kg)"
   ]
  },
  {
   "cell_type": "code",
   "execution_count": 78,
   "metadata": {},
   "outputs": [
    {
     "data": {
      "text/plain": [
       "'4.593810445e+14'"
      ]
     },
     "execution_count": 78,
     "metadata": {},
     "output_type": "execute_result"
    }
   ],
   "source": [
    "f\"{1.9/4.136E-15:.9e}\""
   ]
  },
  {
   "cell_type": "code",
   "execution_count": null,
   "metadata": {},
   "outputs": [],
   "source": []
  }
 ],
 "metadata": {
  "kernelspec": {
   "display_name": "venv",
   "language": "python",
   "name": "python3"
  },
  "language_info": {
   "codemirror_mode": {
    "name": "ipython",
    "version": 3
   },
   "file_extension": ".py",
   "mimetype": "text/x-python",
   "name": "python",
   "nbconvert_exporter": "python",
   "pygments_lexer": "ipython3",
   "version": "3.10.12"
  },
  "orig_nbformat": 4
 },
 "nbformat": 4,
 "nbformat_minor": 2
}
