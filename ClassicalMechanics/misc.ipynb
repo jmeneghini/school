{
 "cells": [
  {
   "cell_type": "code",
   "execution_count": 67,
   "metadata": {},
   "outputs": [],
   "source": [
    "import numpy as np\n",
    "import sympy as sp"
   ]
  },
  {
   "cell_type": "code",
   "execution_count": 68,
   "metadata": {},
   "outputs": [],
   "source": [
    "# define symbols\n",
    "m_1, m_2, m_3, g = sp.symbols('m_1, m_2, m_3, g', real=True, positive=True)"
   ]
  },
  {
   "cell_type": "code",
   "execution_count": 69,
   "metadata": {},
   "outputs": [
    {
     "data": {
      "text/latex": [
       "$\\displaystyle \\left[\\begin{matrix}- m_{1} & 0 & 0 & 2 & - g m_{1}\\\\0 & - m_{2} & 0 & 1 & - g m_{2}\\\\0 & 0 & - m_{3} & 1 & - g m_{3}\\\\2 & 1 & 1 & 0 & 0\\end{matrix}\\right]$"
      ],
      "text/plain": [
       "Matrix([\n",
       "[-m_1,    0,    0, 2, -g*m_1],\n",
       "[   0, -m_2,    0, 1, -g*m_2],\n",
       "[   0,    0, -m_3, 1, -g*m_3],\n",
       "[   2,    1,    1, 0,      0]])"
      ]
     },
     "execution_count": 69,
     "metadata": {},
     "output_type": "execute_result"
    }
   ],
   "source": [
    "# define augmented matrix\n",
    "A = sp.Matrix([[-m_1, 0, 0, 2],\n",
    "               [0, -m_2, 0, 1],\n",
    "               [0, 0, -m_3, 1],\n",
    "               [2, 1, 1, 0]])\n",
    "\n",
    "# define augmented vector\n",
    "b = sp.Matrix([[-m_1*g],\n",
    "                [-m_2*g],\n",
    "                [-m_3*g],\n",
    "                [0]])\n",
    "\n",
    "# construct augmented matrix\n",
    "M = A.row_join(b)\n",
    "M"
   ]
  },
  {
   "cell_type": "code",
   "execution_count": 70,
   "metadata": {},
   "outputs": [
    {
     "data": {
      "text/latex": [
       "$\\displaystyle \\left[\\begin{matrix}1 & 0 & 0 & 0 & \\frac{g \\left(m_{1} m_{2} + m_{1} m_{3} - 4 m_{2} m_{3}\\right)}{m_{1} m_{2} + m_{1} m_{3} + 4 m_{2} m_{3}}\\\\0 & 1 & 0 & 0 & \\frac{g \\left(m_{1} m_{2} - 3 m_{1} m_{3} + 4 m_{2} m_{3}\\right)}{m_{1} m_{2} + m_{1} m_{3} + 4 m_{2} m_{3}}\\\\0 & 0 & 1 & 0 & \\frac{g \\left(- 3 m_{1} m_{2} + m_{1} m_{3} + 4 m_{2} m_{3}\\right)}{m_{1} m_{2} + m_{1} m_{3} + 4 m_{2} m_{3}}\\\\0 & 0 & 0 & 1 & - \\frac{4 g m_{1} m_{2} m_{3}}{m_{1} m_{2} + m_{1} m_{3} + 4 m_{2} m_{3}}\\end{matrix}\\right]$"
      ],
      "text/plain": [
       "Matrix([\n",
       "[1, 0, 0, 0,    g*(m_1*m_2 + m_1*m_3 - 4*m_2*m_3)/(m_1*m_2 + m_1*m_3 + 4*m_2*m_3)],\n",
       "[0, 1, 0, 0,  g*(m_1*m_2 - 3*m_1*m_3 + 4*m_2*m_3)/(m_1*m_2 + m_1*m_3 + 4*m_2*m_3)],\n",
       "[0, 0, 1, 0, g*(-3*m_1*m_2 + m_1*m_3 + 4*m_2*m_3)/(m_1*m_2 + m_1*m_3 + 4*m_2*m_3)],\n",
       "[0, 0, 0, 1,                     -4*g*m_1*m_2*m_3/(m_1*m_2 + m_1*m_3 + 4*m_2*m_3)]])"
      ]
     },
     "execution_count": 70,
     "metadata": {},
     "output_type": "execute_result"
    }
   ],
   "source": [
    "# reduce to row echelon form\n",
    "M_rref = M.rref()\n",
    "M_rref[0].simplify()\n",
    "M_rref[0]"
   ]
  },
  {
   "cell_type": "code",
   "execution_count": 71,
   "metadata": {},
   "outputs": [
    {
     "data": {
      "text/latex": [
       "$\\displaystyle \\frac{2 g \\left(m_{1} m_{2} + m_{1} m_{3} - 4 m_{2} m_{3}\\right)}{m_{1} m_{2} + m_{1} m_{3} + 4 m_{2} m_{3}}$"
      ],
      "text/plain": [
       "2*g*(m_1*m_2 + m_1*m_3 - 4*m_2*m_3)/(m_1*m_2 + m_1*m_3 + 4*m_2*m_3)"
      ]
     },
     "execution_count": 71,
     "metadata": {},
     "output_type": "execute_result"
    }
   ],
   "source": [
    "# find the tension that acts on m_1\n",
    "\n",
    "dgdx1 = 2\n",
    "T_1 = M_rref[0][0, 4] * dgdx1\n",
    "T_1 "
   ]
  },
  {
   "cell_type": "code",
   "execution_count": null,
   "metadata": {},
   "outputs": [],
   "source": []
  }
 ],
 "metadata": {
  "kernelspec": {
   "display_name": "Python 3",
   "language": "python",
   "name": "python3"
  },
  "language_info": {
   "codemirror_mode": {
    "name": "ipython",
    "version": 3
   },
   "file_extension": ".py",
   "mimetype": "text/x-python",
   "name": "python",
   "nbconvert_exporter": "python",
   "pygments_lexer": "ipython3",
   "version": "3.10.13"
  }
 },
 "nbformat": 4,
 "nbformat_minor": 2
}
