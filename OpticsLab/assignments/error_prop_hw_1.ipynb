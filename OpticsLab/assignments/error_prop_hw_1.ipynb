{
 "cells": [
  {
   "cell_type": "code",
   "execution_count": 70,
   "metadata": {},
   "outputs": [],
   "source": [
    "import numpy as np\n",
    "import uncertainties as unc"
   ]
  },
  {
   "cell_type": "code",
   "execution_count": 71,
   "metadata": {},
   "outputs": [],
   "source": [
    "# 3\n",
    "D = unc.ufloat(5.63, 0.02)\n",
    "h = unc.ufloat(12.46, 0.02)"
   ]
  },
  {
   "cell_type": "code",
   "execution_count": 72,
   "metadata": {},
   "outputs": [
    {
     "data": {
      "text/plain": [
       "310.1878005855915"
      ]
     },
     "execution_count": 72,
     "metadata": {},
     "output_type": "execute_result"
    }
   ],
   "source": [
    "V = lambda D, h: np.pi * D**2 * h / 4\n",
    "V_nom = V(D.n, h.n)\n",
    "V_nom"
   ]
  },
  {
   "cell_type": "code",
   "execution_count": 73,
   "metadata": {},
   "outputs": [
    {
     "data": {
      "text/plain": [
       "2.2593638519615915"
      ]
     },
     "execution_count": 73,
     "metadata": {},
     "output_type": "execute_result"
    }
   ],
   "source": [
    "del_V = lambda D, del_D, h, del_h: np.sqrt((np.pi/2 * D * h * del_D)**2 + (np.pi * D**2 * del_h / 4)**2)\n",
    "del_V = del_V(D.n, D.s, h.n, h.s)\n",
    "del_V"
   ]
  },
  {
   "cell_type": "code",
   "execution_count": 74,
   "metadata": {},
   "outputs": [
    {
     "data": {
      "text/plain": [
       "310.1878005855915+/-2.2593638519615915"
      ]
     },
     "execution_count": 74,
     "metadata": {},
     "output_type": "execute_result"
    }
   ],
   "source": [
    "V = V(D, h)\n",
    "V"
   ]
  },
  {
   "cell_type": "code",
   "execution_count": 75,
   "metadata": {},
   "outputs": [],
   "source": [
    "# 4\n",
    "L = unc.ufloat(1.00, 0.01)\n",
    "T = unc.ufloat(2.00, 0.02)\n"
   ]
  },
  {
   "cell_type": "code",
   "execution_count": 76,
   "metadata": {},
   "outputs": [
    {
     "data": {
      "text/plain": [
       "9.869604401089358"
      ]
     },
     "execution_count": 76,
     "metadata": {},
     "output_type": "execute_result"
    }
   ],
   "source": [
    "g = lambda L, T: 4 * np.pi**2 * L / T**2\n",
    "g_nom = g(L.n, T.n)\n",
    "g_nom"
   ]
  },
  {
   "cell_type": "code",
   "execution_count": 77,
   "metadata": {},
   "outputs": [
    {
     "data": {
      "text/plain": [
       "0.22069106351866907"
      ]
     },
     "execution_count": 77,
     "metadata": {},
     "output_type": "execute_result"
    }
   ],
   "source": [
    "del_g = lambda L, del_L, T, del_T: np.sqrt((4 * np.pi**2 * del_L / T**2)**2 + (8 * np.pi**2 * L * del_T / T**3)**2)\n",
    "del_g = del_g(L.n, L.s, T.n, T.s)\n",
    "del_g"
   ]
  },
  {
   "cell_type": "code",
   "execution_count": 78,
   "metadata": {},
   "outputs": [],
   "source": [
    "# 5\n",
    "m = unc.ufloat(1.25, 0.05)\n",
    "v = unc.ufloat(0.87, 0.01)"
   ]
  },
  {
   "cell_type": "code",
   "execution_count": 79,
   "metadata": {},
   "outputs": [
    {
     "data": {
      "text/plain": [
       "0.4730625"
      ]
     },
     "execution_count": 79,
     "metadata": {},
     "output_type": "execute_result"
    }
   ],
   "source": [
    "T = lambda m, v: 1/2 * m * v**2\n",
    "T_nom = T(m.n, v.n)\n",
    "T_nom"
   ]
  },
  {
   "cell_type": "code",
   "execution_count": 80,
   "metadata": {},
   "outputs": [
    {
     "data": {
      "text/plain": [
       "0.021824908504962857"
      ]
     },
     "execution_count": 80,
     "metadata": {},
     "output_type": "execute_result"
    }
   ],
   "source": [
    "del_T = lambda m, del_m, v, del_v: np.sqrt((1/2 * v**2 * del_m)**2 + (m * v * del_v)**2)\n",
    "del_T = del_T(m.n, m.s, v.n, v.s)\n",
    "del_T"
   ]
  },
  {
   "cell_type": "code",
   "execution_count": 81,
   "metadata": {},
   "outputs": [
    {
     "data": {
      "text/plain": [
       "0.4730625+/-0.021824908504962857"
      ]
     },
     "execution_count": 81,
     "metadata": {},
     "output_type": "execute_result"
    }
   ],
   "source": [
    "T = T(m, v)\n",
    "T"
   ]
  },
  {
   "cell_type": "code",
   "execution_count": 82,
   "metadata": {},
   "outputs": [
    {
     "data": {
      "text/plain": [
       "31.06"
      ]
     },
     "execution_count": 82,
     "metadata": {},
     "output_type": "execute_result"
    }
   ],
   "source": [
    "# 6\n",
    "L1 = unc.ufloat(17.4, 0.3)\n",
    "L2 = unc.ufloat(9.54, 0.05)\n",
    "L3 = unc.ufloat(11.6, 0.7)\n",
    "L = lambda L1, L2, L3: (L1 - L2 + 2*L3)\n",
    "L_nom = L(L1.n, L2.n, L3.n)\n",
    "L_nom"
   ]
  },
  {
   "cell_type": "code",
   "execution_count": 83,
   "metadata": {},
   "outputs": [
    {
     "data": {
      "text/plain": [
       "1.4326548781894402"
      ]
     },
     "execution_count": 83,
     "metadata": {},
     "output_type": "execute_result"
    }
   ],
   "source": [
    "del_L = lambda L1, del_L1, L2, del_L2, L3, del_L3: np.sqrt((del_L1)**2 + (del_L2)**2 + (2 * del_L3)**2)\n",
    "del_L = del_L(L1.n, L1.s, L2.n, L2.s, L3.n, L3.s)\n",
    "del_L"
   ]
  },
  {
   "cell_type": "code",
   "execution_count": 84,
   "metadata": {},
   "outputs": [
    {
     "data": {
      "text/plain": [
       "31.06+/-1.4326548781894402"
      ]
     },
     "execution_count": 84,
     "metadata": {},
     "output_type": "execute_result"
    }
   ],
   "source": [
    "L = L(L1, L2, L3)\n",
    "L"
   ]
  },
  {
   "cell_type": "code",
   "execution_count": 85,
   "metadata": {},
   "outputs": [],
   "source": [
    "# 8 \n",
    "D = unc.ufloat(3.81, 0.03)\n",
    "B = unc.ufloat(0.483, 0.005)\n",
    "C = lambda D, B: D**2/(D + B)\n"
   ]
  },
  {
   "cell_type": "code",
   "execution_count": 86,
   "metadata": {},
   "outputs": [
    {
     "data": {
      "text/plain": [
       "0.029880911433405453"
      ]
     },
     "execution_count": 86,
     "metadata": {},
     "output_type": "execute_result"
    }
   ],
   "source": [
    "del_C= lambda D, del_D, B, del_B: np.sqrt(((2*D/(D+B) - D**2/(D+B)**2)**2) * (del_D)**2 + (D**2/(D+B)**2)**2 * (del_B)**2)\n",
    "del_C = del_C(D.n, D.s, B.n, B.s)\n",
    "del_C"
   ]
  },
  {
   "cell_type": "code",
   "execution_count": 87,
   "metadata": {},
   "outputs": [
    {
     "data": {
      "text/plain": [
       "3.381341719077568+/-0.029880911433405464"
      ]
     },
     "execution_count": 87,
     "metadata": {},
     "output_type": "execute_result"
    }
   ],
   "source": [
    "C = C(D, B)\n",
    "C"
   ]
  },
  {
   "cell_type": "code",
   "execution_count": null,
   "metadata": {},
   "outputs": [],
   "source": []
  }
 ],
 "metadata": {
  "kernelspec": {
   "display_name": "Python 3",
   "language": "python",
   "name": "python3"
  },
  "language_info": {
   "codemirror_mode": {
    "name": "ipython",
    "version": 3
   },
   "file_extension": ".py",
   "mimetype": "text/x-python",
   "name": "python",
   "nbconvert_exporter": "python",
   "pygments_lexer": "ipython3",
   "version": "3.10.13"
  }
 },
 "nbformat": 4,
 "nbformat_minor": 2
}
