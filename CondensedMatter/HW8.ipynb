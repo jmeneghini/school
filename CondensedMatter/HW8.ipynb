{
 "cells": [
  {
   "cell_type": "code",
   "execution_count": 59,
   "metadata": {
    "collapsed": true,
    "ExecuteTime": {
     "start_time": "2023-04-20T20:32:47.021691Z",
     "end_time": "2023-04-20T20:32:47.093715Z"
    }
   },
   "outputs": [],
   "source": [
    "import pint\n",
    "import numpy as np\n",
    "from scipy.constants import m_e, m_p, m_n, hbar, pi, c, k"
   ]
  },
  {
   "cell_type": "code",
   "execution_count": 60,
   "outputs": [],
   "source": [
    "ureg = pint.UnitRegistry()\n",
    "hbar = hbar * ureg.joule * ureg.second\n",
    "k = k * ureg.joule/ureg.kelvin"
   ],
   "metadata": {
    "collapsed": false,
    "ExecuteTime": {
     "start_time": "2023-04-20T20:32:47.065589Z",
     "end_time": "2023-04-20T20:32:47.171068Z"
    }
   }
  },
  {
   "cell_type": "code",
   "execution_count": 61,
   "outputs": [
    {
     "data": {
      "text/plain": "1.1957274813113566e+57 <Unit('dimensionless')>",
      "text/html": "1.1957274813113566×10<sup>57</sup> dimensionless",
      "text/latex": "$1.1957274813113566\\times 10^{57}\\ dimensionless$"
     },
     "execution_count": 61,
     "metadata": {},
     "output_type": "execute_result"
    }
   ],
   "source": [
    "# approximate N\n",
    "M_sun = 2E33 * ureg.gram\n",
    "N = M_sun/ (m_p * ureg.kilogram)\n",
    "N.to_base_units()"
   ],
   "metadata": {
    "collapsed": false,
    "ExecuteTime": {
     "start_time": "2023-04-20T20:32:47.151046Z",
     "end_time": "2023-04-20T20:32:47.200557Z"
    }
   }
  },
  {
   "cell_type": "code",
   "execution_count": 62,
   "outputs": [],
   "source": [
    "def fermi_energy(r, m, N):\n",
    "    V = 4/3 * pi * r**3\n",
    "    return hbar**2/(2*m) * (3*pi**2*(N/V))**(2/3)"
   ],
   "metadata": {
    "collapsed": false,
    "ExecuteTime": {
     "start_time": "2023-04-20T20:32:47.193452Z",
     "end_time": "2023-04-20T20:32:47.200752Z"
    }
   }
  },
  {
   "cell_type": "code",
   "execution_count": 63,
   "outputs": [
    {
     "data": {
      "text/plain": "1.67262192369e-27"
     },
     "execution_count": 63,
     "metadata": {},
     "output_type": "execute_result"
    }
   ],
   "source": [
    "m_p"
   ],
   "metadata": {
    "collapsed": false,
    "ExecuteTime": {
     "start_time": "2023-04-20T20:32:47.193539Z",
     "end_time": "2023-04-20T20:32:47.200985Z"
    }
   }
  },
  {
   "cell_type": "code",
   "execution_count": 64,
   "outputs": [
    {
     "data": {
      "text/plain": "39522.03940303104 <Unit('electron_volt')>",
      "text/html": "39522.03940303104 electron_volt",
      "text/latex": "$39522.03940303104\\ \\mathrm{electron\\_volt}$"
     },
     "execution_count": 64,
     "metadata": {},
     "output_type": "execute_result"
    }
   ],
   "source": [
    "# fermi energy in eV\n",
    "fermi_energy(2E9 * ureg.cm, m_e * ureg.kg, N).to(ureg.eV)"
   ],
   "metadata": {
    "collapsed": false,
    "ExecuteTime": {
     "start_time": "2023-04-20T20:32:47.193609Z",
     "end_time": "2023-04-20T20:32:47.201294Z"
    }
   }
  },
  {
   "cell_type": "code",
   "execution_count": 65,
   "outputs": [
    {
     "data": {
      "text/plain": "158088157612.12387 <Unit('electron_volt')>",
      "text/html": "158088157612.12387 electron_volt",
      "text/latex": "$158088157612.12387\\ \\mathrm{electron\\_volt}$"
     },
     "execution_count": 65,
     "metadata": {},
     "output_type": "execute_result"
    }
   ],
   "source": [
    "# part c\n",
    "fermi_energy(10 * ureg.km, m_e * ureg.kg, N).to(ureg.eV)\n"
   ],
   "metadata": {
    "collapsed": false,
    "ExecuteTime": {
     "start_time": "2023-04-20T20:32:47.193695Z",
     "end_time": "2023-04-20T20:32:47.286292Z"
    }
   }
  },
  {
   "cell_type": "code",
   "execution_count": 66,
   "outputs": [],
   "source": [
    "def approx_fermi_energy(r, m, N):\n",
    "    V = 4/3 * pi * r**3\n",
    "    return hbar*(c * ureg.meter/ureg.second)* (N/V)**(1/3)"
   ],
   "metadata": {
    "collapsed": false,
    "ExecuteTime": {
     "start_time": "2023-04-20T20:32:47.237452Z",
     "end_time": "2023-04-20T20:32:47.286584Z"
    }
   }
  },
  {
   "cell_type": "code",
   "execution_count": 67,
   "outputs": [
    {
     "data": {
      "text/plain": "129927476.67052282 <Unit('electron_volt')>",
      "text/html": "129927476.67052282 electron_volt",
      "text/latex": "$129927476.67052282\\ \\mathrm{electron\\_volt}$"
     },
     "execution_count": 67,
     "metadata": {},
     "output_type": "execute_result"
    }
   ],
   "source": [
    "# fermi energy in eV\n",
    "approx_fermi_energy(10 * ureg.km, m_e * ureg.kg, N).to(ureg.eV)"
   ],
   "metadata": {
    "collapsed": false,
    "ExecuteTime": {
     "start_time": "2023-04-20T20:32:47.237528Z",
     "end_time": "2023-04-20T20:32:47.286877Z"
    }
   }
  },
  {
   "cell_type": "code",
   "execution_count": 68,
   "outputs": [],
   "source": [
    "# Question 5\n",
    "def fermi_energy(rho, m):\n",
    "    return hbar**2/(2*m**(5/3)) * (3*pi**2*rho)**(2/3)"
   ],
   "metadata": {
    "collapsed": false,
    "ExecuteTime": {
     "start_time": "2023-04-20T20:32:47.237624Z",
     "end_time": "2023-04-20T20:32:47.287046Z"
    }
   }
  },
  {
   "cell_type": "code",
   "execution_count": 69,
   "outputs": [
    {
     "data": {
      "text/plain": "81.0 <Unit('kilogram / meter ** 3')>",
      "text/html": "81.0 kilogram/meter<sup>3</sup>",
      "text/latex": "$81.0\\ \\frac{\\mathrm{kilogram}}{\\mathrm{meter}^{3}}$"
     },
     "execution_count": 69,
     "metadata": {},
     "output_type": "execute_result"
    }
   ],
   "source": [
    "rho = 0.081 * ureg.gram/ureg.cm**3\n",
    "rho = rho.to(ureg.kg/ureg.m**3)\n",
    "rho"
   ],
   "metadata": {
    "collapsed": false,
    "ExecuteTime": {
     "start_time": "2023-04-20T20:32:47.237697Z",
     "end_time": "2023-04-20T20:32:47.287329Z"
    }
   }
  },
  {
   "cell_type": "code",
   "execution_count": 69,
   "outputs": [],
   "source": [],
   "metadata": {
    "collapsed": false,
    "ExecuteTime": {
     "start_time": "2023-04-20T20:32:47.244272Z",
     "end_time": "2023-04-20T20:32:47.287828Z"
    }
   }
  },
  {
   "cell_type": "code",
   "execution_count": 70,
   "outputs": [
    {
     "data": {
      "text/plain": "1.67492749804e-27"
     },
     "execution_count": 70,
     "metadata": {},
     "output_type": "execute_result"
    }
   ],
   "source": [
    "m_n"
   ],
   "metadata": {
    "collapsed": false,
    "ExecuteTime": {
     "start_time": "2023-04-20T20:32:47.285540Z",
     "end_time": "2023-04-20T20:32:47.288104Z"
    }
   }
  },
  {
   "cell_type": "code",
   "execution_count": 71,
   "outputs": [],
   "source": [
    "m = 2*m_e + 2*m_p + m_n\n",
    "m = m * ureg.kg"
   ],
   "metadata": {
    "collapsed": false,
    "ExecuteTime": {
     "start_time": "2023-04-20T20:32:47.285650Z",
     "end_time": "2023-04-20T20:32:47.288233Z"
    }
   }
  },
  {
   "cell_type": "code",
   "execution_count": 72,
   "outputs": [],
   "source": [
    "E = fermi_energy(rho, m).to(ureg.eV)"
   ],
   "metadata": {
    "collapsed": false,
    "ExecuteTime": {
     "start_time": "2023-04-20T20:32:47.285767Z",
     "end_time": "2023-04-20T20:32:47.288359Z"
    }
   }
  },
  {
   "cell_type": "code",
   "execution_count": 79,
   "outputs": [
    {
     "data": {
      "text/plain": "4.899850763083603 <Unit('kelvin')>",
      "text/html": "4.899850763083603 kelvin",
      "text/latex": "$4.899850763083603\\ \\mathrm{kelvin}$"
     },
     "execution_count": 79,
     "metadata": {},
     "output_type": "execute_result"
    }
   ],
   "source": [
    "T = E/k\n",
    "T.to(ureg.kelvin)"
   ],
   "metadata": {
    "collapsed": false,
    "ExecuteTime": {
     "start_time": "2023-04-20T20:35:04.414599Z",
     "end_time": "2023-04-20T20:35:04.417481Z"
    }
   }
  },
  {
   "cell_type": "code",
   "execution_count": null,
   "outputs": [],
   "source": [],
   "metadata": {
    "collapsed": false
   }
  }
 ],
 "metadata": {
  "kernelspec": {
   "display_name": "Python 3",
   "language": "python",
   "name": "python3"
  },
  "language_info": {
   "codemirror_mode": {
    "name": "ipython",
    "version": 2
   },
   "file_extension": ".py",
   "mimetype": "text/x-python",
   "name": "python",
   "nbconvert_exporter": "python",
   "pygments_lexer": "ipython2",
   "version": "2.7.6"
  }
 },
 "nbformat": 4,
 "nbformat_minor": 0
}
