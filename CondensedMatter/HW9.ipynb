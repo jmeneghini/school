{
 "cells": [
  {
   "cell_type": "raw",
   "id": "5d1585df",
   "metadata": {},
   "source": [
    " import numpy as "
   ]
  },
  {
   "attachments": {},
   "cell_type": "markdown",
   "id": "5fb983db",
   "metadata": {},
   "source": [
    "# Question 1\n",
    "In class we calculated the polarization, or spin excess, of a sample of $^1$H at 310 K\n"
   ]
  },
  {
   "cell_type": "code",
   "execution_count": null,
   "id": "fig-polar",
   "metadata": {},
   "outputs": [],
   "source": [
    "#| label: fig-polar\n",
    "#| fig-cap: A line plot on a polar axis\n",
    "\n",
    "import numpy as np\n",
    "import matplotlib.pyplot as plt\n",
    "\n",
    "r = np.arange(0, 2, 0.01)\n",
    "theta = 2 * np.pi * r\n",
    "fig, ax = plt.subplots(\n",
    "  subplot_kw = {'projection': 'polar'} \n",
    ")\n",
    "ax.plot(theta, r)\n",
    "ax.set_rticks([0.5, 1, 1.5, 2])\n",
    "ax.grid(True)\n",
    "plt.show()"
   ]
  }
 ],
 "metadata": {
  "kernelspec": {
   "display_name": "Python 3 (ipykernel)",
   "language": "python",
   "name": "python3"
  },
  "language_info": {
   "codemirror_mode": {
    "name": "ipython",
    "version": 3
   },
   "file_extension": ".py",
   "mimetype": "text/x-python",
   "name": "python",
   "nbconvert_exporter": "python",
   "pygments_lexer": "ipython3",
   "version": "3.10.6"
  }
 },
 "nbformat": 4,
 "nbformat_minor": 5
}
